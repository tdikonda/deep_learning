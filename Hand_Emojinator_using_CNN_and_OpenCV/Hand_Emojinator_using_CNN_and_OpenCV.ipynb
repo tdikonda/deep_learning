{
 "cells": [
  {
   "cell_type": "markdown",
   "metadata": {},
   "source": [
    "# Hand Emojinator using Convolutional Neural Network (CNN) & OpenCV\n",
    "- Emojis are ideograms and smileys used in electronic messages and web pages. Emoji exist in various genres, including facial expressions, common objects, places and types of weather, and animals. They are much like emoticons, but emoji are actual pictures instead of typographics.\n",
    "\n",
    "- This project helps you to classify different hand gestures into its corresponding hand emoji to display on the video stream."
   ]
  },
  {
   "cell_type": "markdown",
   "metadata": {},
   "source": [
    "## 1. View sample Hand Emoji"
   ]
  },
  {
   "cell_type": "code",
   "execution_count": 23,
   "metadata": {
    "ExecuteTime": {
     "end_time": "2019-06-18T02:11:25.679679Z",
     "start_time": "2019-06-18T02:11:25.676209Z"
    }
   },
   "outputs": [],
   "source": [
    "# import openCV and matplotlib library\n",
    "import matplotlib.pyplot as plt\n",
    "import cv2"
   ]
  },
  {
   "cell_type": "code",
   "execution_count": 24,
   "metadata": {
    "ExecuteTime": {
     "end_time": "2019-06-18T02:14:32.690455Z",
     "start_time": "2019-06-18T02:14:32.685995Z"
    }
   },
   "outputs": [],
   "source": [
    "# read sample image and convert its color channel from BGR to RGB\n",
    "img = cv2.imread('hand_emoji/train/Thumbs_Up/1f44d.png')\n",
    "img = cv2.cvtColor(img, cv2.COLOR_BGR2RGB)"
   ]
  },
  {
   "cell_type": "code",
   "execution_count": 25,
   "metadata": {
    "ExecuteTime": {
     "end_time": "2019-06-18T02:14:43.616446Z",
     "start_time": "2019-06-18T02:14:43.611488Z"
    }
   },
   "outputs": [
    {
     "data": {
      "text/plain": [
       "numpy.ndarray"
      ]
     },
     "execution_count": 25,
     "metadata": {},
     "output_type": "execute_result"
    }
   ],
   "source": [
    "# check datatype for the image\n",
    "type(img)"
   ]
  },
  {
   "cell_type": "code",
   "execution_count": 26,
   "metadata": {
    "ExecuteTime": {
     "end_time": "2019-06-18T02:14:55.116516Z",
     "start_time": "2019-06-18T02:14:55.112052Z"
    }
   },
   "outputs": [
    {
     "data": {
      "text/plain": [
       "(128, 128, 3)"
      ]
     },
     "execution_count": 26,
     "metadata": {},
     "output_type": "execute_result"
    }
   ],
   "source": [
    "# check image shape\n",
    "img.shape"
   ]
  },
  {
   "cell_type": "code",
   "execution_count": 73,
   "metadata": {
    "ExecuteTime": {
     "end_time": "2019-06-23T18:11:48.305797Z",
     "start_time": "2019-06-23T18:11:48.112388Z"
    }
   },
   "outputs": [
    {
     "data": {
      "text/plain": [
       "<matplotlib.image.AxesImage at 0x26e2a788e80>"
      ]
     },
     "execution_count": 73,
     "metadata": {},
     "output_type": "execute_result"
    },
    {
     "data": {
      "image/png": "[encoded data removed]",
      "text/plain": [
       "<Figure size 432x288 with 1 Axes>"
      ]
     },
     "metadata": {
      "needs_background": "light"
     },
     "output_type": "display_data"
    }
   ],
   "source": [
    "# view image\n",
    "plt.imshow(img)"
   ]
  },
  {
   "cell_type": "markdown",
   "metadata": {},
   "source": [
    "## 2. Data/Image augmentation\n",
    "\n",
    "We do not have sufficient amount of data to train our image classification model, so we will be using data/image augmentation process which is available in Keras called [Image Data Generator](https://keras.io/preprocessing/image/#imagedatagenerator-class). Its usually a good idea to manipulate the images with rotation, resizing and scaling so the model becomes more robust to different images that our dataset doesn't have. This trick makes it seem like you have far more data than you actually have, resulting in better models."
   ]
  },
  {
   "cell_type": "code",
   "execution_count": 32,
   "metadata": {
    "ExecuteTime": {
     "end_time": "2019-06-18T02:19:25.449097Z",
     "start_time": "2019-06-18T02:19:25.446120Z"
    }
   },
   "outputs": [],
   "source": [
    "# import image data generator library from Keras\n",
    "from keras.preprocessing.image import ImageDataGenerator"
   ]
  },
  {
   "cell_type": "code",
   "execution_count": 14,
   "metadata": {
    "ExecuteTime": {
     "end_time": "2019-06-18T02:04:57.362740Z",
     "start_time": "2019-06-18T02:04:57.356815Z"
    }
   },
   "outputs": [],
   "source": [
    "# create image generator\n",
    "image_gen = ImageDataGenerator(rotation_range=30,      # rotate the image upto 30 degrees\n",
    "                               width_shift_range=0.1,  # shift the pic width upto 10%\n",
    "                               height_shift_range=0.1, # shift the pic height upto 10%\n",
    "                               shear_range=0.2,        # shear means cutting away part of the image upto 20%\n",
    "                               zoom_range=0.2,         # zoom in by upto 20%\n",
    "                               fill_mode='nearest',    # fill in missing pixels with the nearest filled value\n",
    "                               horizontal_flip=True,   # allow horizontal flipping\n",
    "                               rescale=1/255)          # rescale the image by normalzing it."
   ]
  },
  {
   "cell_type": "code",
   "execution_count": 29,
   "metadata": {
    "ExecuteTime": {
     "end_time": "2019-06-18T02:15:38.543335Z",
     "start_time": "2019-06-18T02:15:38.370061Z"
    }
   },
   "outputs": [
    {
     "data": {
      "text/plain": [
       "<matplotlib.image.AxesImage at 0x26e2804b2b0>"
      ]
     },
     "execution_count": 29,
     "metadata": {},
     "output_type": "execute_result"
    },
    {
     "data": {
      "image/png": "[encoded data removed]",
      "text/plain": [
       "<Figure size 432x288 with 1 Axes>"
      ]
     },
     "metadata": {
      "needs_background": "light"
     },
     "output_type": "display_data"
    }
   ],
   "source": [
    "# check first random image\n",
    "plt.imshow(image_gen.random_transform(img))"
   ]
  },
  {
   "cell_type": "code",
   "execution_count": 30,
   "metadata": {
    "ExecuteTime": {
     "end_time": "2019-06-18T02:15:51.288358Z",
     "start_time": "2019-06-18T02:15:51.104339Z"
    }
   },
   "outputs": [
    {
     "data": {
      "text/plain": [
       "<matplotlib.image.AxesImage at 0x26e299cb7b8>"
      ]
     },
     "execution_count": 30,
     "metadata": {},
     "output_type": "execute_result"
    },
    {
     "data": {
      "image/png": "[encoded data removed]",
      "text/plain": [
       "<Figure size 432x288 with 1 Axes>"
      ]
     },
     "metadata": {
      "needs_background": "light"
     },
     "output_type": "display_data"
    }
   ],
   "source": [
    "# check second random image\n",
    "plt.imshow(image_gen.random_transform(img))"
   ]
  },
  {
   "cell_type": "code",
   "execution_count": 31,
   "metadata": {
    "ExecuteTime": {
     "end_time": "2019-06-18T02:15:58.609535Z",
     "start_time": "2019-06-18T02:15:58.432940Z"
    }
   },
   "outputs": [
    {
     "data": {
      "text/plain": [
       "<matplotlib.image.AxesImage at 0x26e295aab00>"
      ]
     },
     "execution_count": 31,
     "metadata": {},
     "output_type": "execute_result"
    },
    {
     "data": {
      "image/png": "[encoded data removed]",
      "text/plain": [
       "<Figure size 432x288 with 1 Axes>"
      ]
     },
     "metadata": {
      "needs_background": "light"
     },
     "output_type": "display_data"
    }
   ],
   "source": [
    "# check third random image\n",
    "plt.imshow(image_gen.random_transform(img))"
   ]
  },
  {
   "cell_type": "markdown",
   "metadata": {},
   "source": [
    "### Generating many manipulated images from a directory\n",
    "In order to use .flow_from_directory, we must organize the images in sub-directories. This is an absolute requirement, otherwise the method won't work. The directories should only contain images of one class, so one folder per class of images.\n",
    "\n",
    "Structure Needed:\n",
    "- Image Data Folder\n",
    "    - Class 1\n",
    "        - 0.jpg\n",
    "        - 1.jpg\n",
    "        - ...\n",
    "    - Class 2\n",
    "        - 0.jpg\n",
    "        - 1.jpg\n",
    "        - ...\n",
    "    - ...\n",
    "    - Class n"
   ]
  },
  {
   "cell_type": "code",
   "execution_count": 4,
   "metadata": {
    "ExecuteTime": {
     "end_time": "2019-04-26T02:37:01.583161Z",
     "start_time": "2019-04-26T02:37:01.579172Z"
    }
   },
   "outputs": [],
   "source": [
    "# resiszing images to 150 pixels by 150 pixels and 3 color channels\n",
    "input_shape = (150,150,3)"
   ]
  },
  {
   "cell_type": "code",
   "execution_count": 13,
   "metadata": {
    "ExecuteTime": {
     "end_time": "2019-04-26T02:47:56.249149Z",
     "start_time": "2019-04-26T02:47:56.137115Z"
    }
   },
   "outputs": [
    {
     "name": "stdout",
     "output_type": "stream",
     "text": [
      "Found 198 images belonging to 16 classes.\n"
     ]
    }
   ],
   "source": [
    "# generate train images from image generator\n",
    "train_image_gen = image_gen.flow_from_directory('hand_emoji/train',\n",
    "                                               target_size=input_shape[:2],\n",
    "                                               batch_size=16,\n",
    "                                               class_mode='categorical')"
   ]
  },
  {
   "cell_type": "code",
   "execution_count": 14,
   "metadata": {
    "ExecuteTime": {
     "end_time": "2019-04-26T02:47:57.225686Z",
     "start_time": "2019-04-26T02:47:57.112763Z"
    }
   },
   "outputs": [
    {
     "name": "stdout",
     "output_type": "stream",
     "text": [
      "Found 95 images belonging to 16 classes.\n"
     ]
    }
   ],
   "source": [
    "# generate test images from image generator\n",
    "test_image_gen = image_gen.flow_from_directory('hand_emoji/test',\n",
    "                                               target_size=input_shape[:2],\n",
    "                                               batch_size=16,\n",
    "                                               class_mode='categorical')"
   ]
  },
  {
   "cell_type": "code",
   "execution_count": 15,
   "metadata": {
    "ExecuteTime": {
     "end_time": "2019-04-26T02:47:58.300193Z",
     "start_time": "2019-04-26T02:47:58.294205Z"
    }
   },
   "outputs": [
    {
     "data": {
      "text/plain": [
       "{'Call_Me': 0,\n",
       " 'Down_Index': 1,\n",
       " 'Fingers_Crossed': 2,\n",
       " 'Fist': 3,\n",
       " 'Hand': 4,\n",
       " 'Middle_Finger': 5,\n",
       " 'OK': 6,\n",
       " 'Pointing_Index': 7,\n",
       " 'Rock_It': 8,\n",
       " 'Smack': 9,\n",
       " 'Thumbs_Down': 10,\n",
       " 'Thumbs_Up': 11,\n",
       " 'Up_Pointing_Index': 12,\n",
       " 'Victory_Hand': 13,\n",
       " 'Vulcan_Salute': 14,\n",
       " 'Yo': 15}"
      ]
     },
     "execution_count": 15,
     "metadata": {},
     "output_type": "execute_result"
    }
   ],
   "source": [
    "# check target labels\n",
    "train_image_gen.class_indices"
   ]
  },
  {
   "attachments": {},
   "cell_type": "markdown",
   "metadata": {},
   "source": [
    "## 3. Building the [Convolutional Neural Network (CNN)](https://towardsdatascience.com/a-comprehensive-guide-to-convolutional-neural-networks-the-eli5-way-3bd2b1164a53) model\n",
    "\n",
    "There are four important steps in building Convolutional Neural Network (CNN)\n",
    "\n",
    "__1. Convolution Layer__\n",
    "    - The objective of Convolution operation is to extract high-level features such as edges from the input image. Convolution preserves the spatial relationship between pixels by learning image features using small squares of input data.\n",
    "\n",
    "\n",
    "__2. Pooling Layer__\n",
    "    - Pooling layer is responsible for reducing the spatial size of the Convolved Features. This is to decrease the computational power required to process the data through dimensionality reduction. Furthermore, it is useful for extracting dominant features which are rotational and positional invariant, thus maintaining the process of effectively training the model.\n",
    "    - There are two types of Pooling :- Max Pooling and Average Pooling. Max Pooling returns the maximum value from the portion of the image covered by the Kernel. On the other hand, Average Pooling returns the average of all the values from the portion of the image covered by the Kernel.\n",
    "    - Max Pooling also works as a Noise Suppressant. It discards the noisy activations altogether and also performs de-noising along with dimensionality reduction. On the other hand, Average Pooling simply performs dimensionality reduction as a noise suppressing mechanism. Hence, we can say that Max Pooling performs a lot better than Average Pooling.\n",
    "\n",
    "\n",
    "__3. Flatten__\n",
    "    - Flatten involves converting the image into a column vector i.e the matrix is converted into a linear array so as to input it into the nodes of our neural network.\n",
    "\n",
    "\n",
    "__4. Fully Connected Layer__\n",
    "    - Adding a Fully Connected layer is a way of learning non-linear combinations of high-level features as represented by the output of the convolutional layer.\n",
    "    - Over a series of epochs, the model is able to distinguish between dominating and certain low-level features in images and classify them using the Softmax Classification technique.\n",
    "\n",
    "\n",
    "![CNN](hand_emoji/CNN.jpeg)"
   ]
  },
  {
   "cell_type": "code",
   "execution_count": 2,
   "metadata": {
    "ExecuteTime": {
     "end_time": "2019-04-26T02:36:57.308421Z",
     "start_time": "2019-04-26T02:36:57.304430Z"
    }
   },
   "outputs": [],
   "source": [
    "# import keras models and layers libraries\n",
    "from keras.models import Sequential\n",
    "from keras.layers import Activation, Conv2D, Dense, Dropout, MaxPool2D, Flatten"
   ]
  },
  {
   "cell_type": "code",
   "execution_count": 11,
   "metadata": {
    "ExecuteTime": {
     "end_time": "2019-04-26T02:47:50.405172Z",
     "start_time": "2019-04-26T02:47:50.263263Z"
    }
   },
   "outputs": [],
   "source": [
    "# create a Sequential Model\n",
    "model = Sequential()\n",
    "\n",
    "# we use Convolution2D layer with 32 filters, kernel size of 3x3, input shape of (150, 150, 3), \n",
    "# Rectified Linear Unit as the activation function and max pooling 2D layer with pool size of 2x2\n",
    "model.add(Conv2D(filters=32, kernel_size=(3,3), input_shape=input_shape, activation='relu'))\n",
    "model.add(MaxPool2D(pool_size=(2,2)))\n",
    "\n",
    "# Convolution2D layer with 64 filters\n",
    "model.add(Conv2D(filters=64, kernel_size=(3,3), activation='relu'))\n",
    "model.add(MaxPool2D(pool_size=(2,2)))\n",
    "\n",
    "# Convolution2D layer with 128 filters\n",
    "model.add(Conv2D(filters=128, kernel_size=(3,3), activation='relu'))\n",
    "model.add(MaxPool2D(pool_size=(2,2)))\n",
    "\n",
    "# Convolution2D layer with 256 filters\n",
    "model.add(Conv2D(filters=256, kernel_size=(3,3), activation='relu'))\n",
    "model.add(MaxPool2D(pool_size=(2,2)))\n",
    "\n",
    "# Convolution2D layer with 512 filters\n",
    "model.add(Conv2D(filters=512, kernel_size=(3,3), activation='relu'))\n",
    "model.add(MaxPool2D(pool_size=(2,2)))\n",
    "\n",
    "# flatten the matrix into a linear array\n",
    "model.add(Flatten())\n",
    "\n",
    "# add a fully connected dense layer with 128 units and Rectified Linear Unit as the activation function\n",
    "model.add(Dense(128, activation='relu'))\n",
    "\n",
    "# add dropout which will avoid overfitting by turning off 40% of the neurons\n",
    "model.add(Dropout(0.4))\n",
    "\n",
    "# add a dense layer with 16 units i.e equal to # of target labels and softmax as the activation function for classification\n",
    "model.add(Dense(16, activation='softmax'))\n",
    "\n",
    "# compile the model using categorical crossentropy & adam optimizer\n",
    "model.compile(loss='categorical_crossentropy',\n",
    "             optimizer='adam',\n",
    "             metrics=['accuracy'])"
   ]
  },
  {
   "cell_type": "code",
   "execution_count": 12,
   "metadata": {
    "ExecuteTime": {
     "end_time": "2019-04-26T02:47:51.700237Z",
     "start_time": "2019-04-26T02:47:51.694239Z"
    }
   },
   "outputs": [
    {
     "name": "stdout",
     "output_type": "stream",
     "text": [
      "_________________________________________________________________\n",
      "Layer (type)                 Output Shape              Param #   \n",
      "=================================================================\n",
      "conv2d_6 (Conv2D)            (None, 148, 148, 32)      896       \n",
      "_________________________________________________________________\n",
      "max_pooling2d_6 (MaxPooling2 (None, 74, 74, 32)        0         \n",
      "_________________________________________________________________\n",
      "conv2d_7 (Conv2D)            (None, 72, 72, 64)        18496     \n",
      "_________________________________________________________________\n",
      "max_pooling2d_7 (MaxPooling2 (None, 36, 36, 64)        0         \n",
      "_________________________________________________________________\n",
      "conv2d_8 (Conv2D)            (None, 34, 34, 128)       73856     \n",
      "_________________________________________________________________\n",
      "max_pooling2d_8 (MaxPooling2 (None, 17, 17, 128)       0         \n",
      "_________________________________________________________________\n",
      "conv2d_9 (Conv2D)            (None, 15, 15, 256)       295168    \n",
      "_________________________________________________________________\n",
      "max_pooling2d_9 (MaxPooling2 (None, 7, 7, 256)         0         \n",
      "_________________________________________________________________\n",
      "conv2d_10 (Conv2D)           (None, 5, 5, 512)         1180160   \n",
      "_________________________________________________________________\n",
      "max_pooling2d_10 (MaxPooling (None, 2, 2, 512)         0         \n",
      "_________________________________________________________________\n",
      "flatten_2 (Flatten)          (None, 2048)              0         \n",
      "_________________________________________________________________\n",
      "dense_3 (Dense)              (None, 128)               262272    \n",
      "_________________________________________________________________\n",
      "dropout_2 (Dropout)          (None, 128)               0         \n",
      "_________________________________________________________________\n",
      "dense_4 (Dense)              (None, 16)                2064      \n",
      "=================================================================\n",
      "Total params: 1,832,912\n",
      "Trainable params: 1,832,912\n",
      "Non-trainable params: 0\n",
      "_________________________________________________________________\n"
     ]
    }
   ],
   "source": [
    "# check out model summary\n",
    "model.summary()"
   ]
  },
  {
   "cell_type": "markdown",
   "metadata": {},
   "source": [
    "### [Fit Generator Keras Documenation](https://keras.io/models/model/#fit_generator)"
   ]
  },
  {
   "cell_type": "code",
   "execution_count": 16,
   "metadata": {
    "ExecuteTime": {
     "end_time": "2019-04-26T03:23:43.253465Z",
     "start_time": "2019-04-26T02:48:02.466801Z"
    },
    "scrolled": false
   },
   "outputs": [
    {
     "name": "stdout",
     "output_type": "stream",
     "text": [
      "Epoch 1/300\n"
     ]
    },
    {
     "name": "stderr",
     "output_type": "stream",
     "text": [
      "C:\\ProgramData\\Anaconda3\\lib\\site-packages\\PIL\\Image.py:953: UserWarning: Palette images with Transparency   expressed in bytes should be converted to RGBA images\n",
      "  'to RGBA images')\n"
     ]
    },
    {
     "name": "stdout",
     "output_type": "stream",
     "text": [
      "12/12 [==============================] - 8s 680ms/step - loss: 2.9141 - acc: 0.0729 - val_loss: 2.7850 - val_acc: 0.0500\n",
      "Epoch 2/300\n",
      "12/12 [==============================] - 6s 541ms/step - loss: 2.7799 - acc: 0.0366 - val_loss: 2.7642 - val_acc: 0.0886\n",
      "Epoch 3/300\n",
      "12/12 [==============================] - 7s 576ms/step - loss: 2.7601 - acc: 0.0865 - val_loss: 2.7526 - val_acc: 0.0506\n",
      "Epoch 4/300\n",
      "12/12 [==============================] - 7s 554ms/step - loss: 2.7633 - acc: 0.0628 - val_loss: 2.7509 - val_acc: 0.1139\n",
      "Epoch 5/300\n",
      "12/12 [==============================] - 7s 546ms/step - loss: 2.7559 - acc: 0.0366 - val_loss: 2.7794 - val_acc: 0.0633\n",
      "Epoch 6/300\n",
      "12/12 [==============================] - 7s 551ms/step - loss: 2.7245 - acc: 0.1443 - val_loss: 2.7149 - val_acc: 0.1646\n",
      "Epoch 7/300\n",
      "12/12 [==============================] - 7s 552ms/step - loss: 2.6913 - acc: 0.1440 - val_loss: 2.6534 - val_acc: 0.1500\n",
      "Epoch 8/300\n",
      "12/12 [==============================] - 7s 556ms/step - loss: 2.6306 - acc: 0.1597 - val_loss: 2.6197 - val_acc: 0.1266\n",
      "Epoch 9/300\n",
      "12/12 [==============================] - 7s 588ms/step - loss: 2.6365 - acc: 0.1492 - val_loss: 2.5951 - val_acc: 0.1772\n",
      "Epoch 10/300\n",
      "12/12 [==============================] - 7s 561ms/step - loss: 2.7010 - acc: 0.1308 - val_loss: 2.6354 - val_acc: 0.1266\n",
      "Epoch 11/300\n",
      "12/12 [==============================] - 7s 580ms/step - loss: 2.5672 - acc: 0.1677 - val_loss: 2.4579 - val_acc: 0.2152\n",
      "Epoch 12/300\n",
      "12/12 [==============================] - 7s 581ms/step - loss: 2.4522 - acc: 0.2333 - val_loss: 2.4143 - val_acc: 0.2152\n",
      "Epoch 13/300\n",
      "12/12 [==============================] - 7s 586ms/step - loss: 2.5839 - acc: 0.1806 - val_loss: 2.3728 - val_acc: 0.2375\n",
      "Epoch 14/300\n",
      "12/12 [==============================] - 7s 590ms/step - loss: 2.5134 - acc: 0.2083 - val_loss: 2.4412 - val_acc: 0.1899\n",
      "Epoch 15/300\n",
      "12/12 [==============================] - 7s 563ms/step - loss: 2.3609 - acc: 0.1963 - val_loss: 2.1818 - val_acc: 0.2532\n",
      "Epoch 16/300\n",
      "12/12 [==============================] - 7s 560ms/step - loss: 2.2402 - acc: 0.2514 - val_loss: 2.2587 - val_acc: 0.2911\n",
      "Epoch 17/300\n",
      "12/12 [==============================] - 7s 562ms/step - loss: 2.2164 - acc: 0.2880 - val_loss: 2.1441 - val_acc: 0.3038\n",
      "Epoch 18/300\n",
      "12/12 [==============================] - 7s 624ms/step - loss: 2.3932 - acc: 0.2985 - val_loss: 2.3538 - val_acc: 0.2025\n",
      "Epoch 19/300\n",
      "12/12 [==============================] - 7s 618ms/step - loss: 2.3421 - acc: 0.2828 - val_loss: 2.1659 - val_acc: 0.3125\n",
      "Epoch 20/300\n",
      "12/12 [==============================] - 8s 635ms/step - loss: 2.1211 - acc: 0.2803 - val_loss: 2.1581 - val_acc: 0.3165\n",
      "Epoch 21/300\n",
      "12/12 [==============================] - 7s 579ms/step - loss: 2.0275 - acc: 0.3483 - val_loss: 2.1216 - val_acc: 0.3291\n",
      "Epoch 22/300\n",
      "12/12 [==============================] - 7s 588ms/step - loss: 2.0690 - acc: 0.3298 - val_loss: 1.8940 - val_acc: 0.3797\n",
      "Epoch 23/300\n",
      "12/12 [==============================] - 7s 601ms/step - loss: 2.1526 - acc: 0.2856 - val_loss: 1.9221 - val_acc: 0.4304\n",
      "Epoch 24/300\n",
      "12/12 [==============================] - 7s 587ms/step - loss: 1.8842 - acc: 0.3929 - val_loss: 1.9394 - val_acc: 0.3671\n",
      "Epoch 25/300\n",
      "12/12 [==============================] - 7s 615ms/step - loss: 1.8851 - acc: 0.3797 - val_loss: 1.7890 - val_acc: 0.4500\n",
      "Epoch 26/300\n",
      "12/12 [==============================] - 7s 610ms/step - loss: 1.8999 - acc: 0.3560 - val_loss: 1.8931 - val_acc: 0.3544\n",
      "Epoch 27/300\n",
      "12/12 [==============================] - 7s 612ms/step - loss: 1.9715 - acc: 0.4375 - val_loss: 1.8062 - val_acc: 0.4304\n",
      "Epoch 28/300\n",
      "12/12 [==============================] - 7s 571ms/step - loss: 1.7614 - acc: 0.4215 - val_loss: 1.6739 - val_acc: 0.4430\n",
      "Epoch 29/300\n",
      "12/12 [==============================] - 7s 568ms/step - loss: 1.7892 - acc: 0.4735 - val_loss: 1.6801 - val_acc: 0.4810\n",
      "Epoch 30/300\n",
      "12/12 [==============================] - 7s 570ms/step - loss: 1.7819 - acc: 0.3929 - val_loss: 1.6536 - val_acc: 0.4177\n",
      "Epoch 31/300\n",
      "12/12 [==============================] - 7s 570ms/step - loss: 1.6900 - acc: 0.4345 - val_loss: 1.7658 - val_acc: 0.4875\n",
      "Epoch 32/300\n",
      "12/12 [==============================] - 7s 564ms/step - loss: 1.6636 - acc: 0.4787 - val_loss: 1.4416 - val_acc: 0.4937\n",
      "Epoch 33/300\n",
      "12/12 [==============================] - 7s 565ms/step - loss: 1.5298 - acc: 0.4976 - val_loss: 1.4610 - val_acc: 0.5316\n",
      "Epoch 34/300\n",
      "12/12 [==============================] - 7s 566ms/step - loss: 1.5019 - acc: 0.4658 - val_loss: 1.3967 - val_acc: 0.5949\n",
      "Epoch 35/300\n",
      "12/12 [==============================] - 7s 599ms/step - loss: 1.5292 - acc: 0.5024 - val_loss: 1.4919 - val_acc: 0.4937\n",
      "Epoch 36/300\n",
      "12/12 [==============================] - 7s 583ms/step - loss: 1.4170 - acc: 0.4868 - val_loss: 1.4244 - val_acc: 0.5316\n",
      "Epoch 37/300\n",
      "12/12 [==============================] - 7s 580ms/step - loss: 1.4822 - acc: 0.5157 - val_loss: 1.6903 - val_acc: 0.4625\n",
      "Epoch 38/300\n",
      "12/12 [==============================] - 7s 567ms/step - loss: 1.6616 - acc: 0.4529 - val_loss: 1.4783 - val_acc: 0.5696\n",
      "Epoch 39/300\n",
      "12/12 [==============================] - 7s 581ms/step - loss: 1.6051 - acc: 0.5342 - val_loss: 1.4144 - val_acc: 0.5696\n",
      "Epoch 40/300\n",
      "12/12 [==============================] - 7s 599ms/step - loss: 1.5752 - acc: 0.4635 - val_loss: 1.2870 - val_acc: 0.6076\n",
      "Epoch 41/300\n",
      "12/12 [==============================] - 7s 566ms/step - loss: 1.4605 - acc: 0.5181 - val_loss: 1.3182 - val_acc: 0.5696\n",
      "Epoch 42/300\n",
      "12/12 [==============================] - 7s 578ms/step - loss: 1.2944 - acc: 0.5760 - val_loss: 1.4306 - val_acc: 0.5443\n",
      "Epoch 43/300\n",
      "12/12 [==============================] - 7s 595ms/step - loss: 1.3636 - acc: 0.5526 - val_loss: 1.3620 - val_acc: 0.5875\n",
      "Epoch 44/300\n",
      "12/12 [==============================] - 7s 596ms/step - loss: 1.2336 - acc: 0.6074 - val_loss: 1.3742 - val_acc: 0.6203\n",
      "Epoch 45/300\n",
      "12/12 [==============================] - 7s 605ms/step - loss: 1.4293 - acc: 0.4840 - val_loss: 1.3209 - val_acc: 0.5823\n",
      "Epoch 46/300\n",
      "12/12 [==============================] - 7s 613ms/step - loss: 1.2819 - acc: 0.6074 - val_loss: 1.1790 - val_acc: 0.5823\n",
      "Epoch 47/300\n",
      "12/12 [==============================] - 7s 571ms/step - loss: 1.2572 - acc: 0.5785 - val_loss: 1.2794 - val_acc: 0.5823\n",
      "Epoch 48/300\n",
      "12/12 [==============================] - 7s 569ms/step - loss: 1.3122 - acc: 0.5788 - val_loss: 1.3358 - val_acc: 0.5823\n",
      "Epoch 49/300\n",
      "12/12 [==============================] - 7s 565ms/step - loss: 1.2458 - acc: 0.5969 - val_loss: 1.4197 - val_acc: 0.5875\n",
      "Epoch 50/300\n",
      "12/12 [==============================] - 7s 565ms/step - loss: 1.1031 - acc: 0.6074 - val_loss: 1.4100 - val_acc: 0.5696\n",
      "Epoch 51/300\n",
      "12/12 [==============================] - 7s 572ms/step - loss: 1.0344 - acc: 0.6834 - val_loss: 1.3178 - val_acc: 0.6076\n",
      "Epoch 52/300\n",
      "12/12 [==============================] - 7s 588ms/step - loss: 1.1459 - acc: 0.6363 - val_loss: 1.0751 - val_acc: 0.5949\n",
      "Epoch 53/300\n",
      "12/12 [==============================] - 7s 597ms/step - loss: 1.0229 - acc: 0.6771 - val_loss: 1.3948 - val_acc: 0.6203\n",
      "Epoch 54/300\n",
      "12/12 [==============================] - 7s 566ms/step - loss: 1.1286 - acc: 0.6255 - val_loss: 1.4425 - val_acc: 0.5063\n",
      "Epoch 55/300\n",
      "12/12 [==============================] - 7s 562ms/step - loss: 1.1794 - acc: 0.6126 - val_loss: 1.3690 - val_acc: 0.5750\n",
      "Epoch 56/300\n",
      "12/12 [==============================] - 7s 567ms/step - loss: 0.9568 - acc: 0.6806 - val_loss: 1.1595 - val_acc: 0.6709\n",
      "Epoch 57/300\n",
      "12/12 [==============================] - 7s 565ms/step - loss: 0.9346 - acc: 0.6754 - val_loss: 1.2300 - val_acc: 0.6709\n",
      "Epoch 58/300\n",
      "12/12 [==============================] - 7s 573ms/step - loss: 1.0734 - acc: 0.6046 - val_loss: 1.4497 - val_acc: 0.6203\n",
      "Epoch 59/300\n",
      "12/12 [==============================] - 7s 566ms/step - loss: 0.9922 - acc: 0.6935 - val_loss: 1.1779 - val_acc: 0.5823\n",
      "Epoch 60/300\n",
      "12/12 [==============================] - 7s 564ms/step - loss: 1.1910 - acc: 0.6520 - val_loss: 1.2201 - val_acc: 0.6456\n",
      "Epoch 61/300\n",
      "12/12 [==============================] - 7s 587ms/step - loss: 0.9316 - acc: 0.7071 - val_loss: 1.5251 - val_acc: 0.5375\n",
      "Epoch 62/300\n",
      "12/12 [==============================] - 7s 563ms/step - loss: 0.8286 - acc: 0.7092 - val_loss: 1.3919 - val_acc: 0.6835\n",
      "Epoch 63/300\n",
      "12/12 [==============================] - 7s 564ms/step - loss: 1.0203 - acc: 0.6649 - val_loss: 0.9625 - val_acc: 0.6962\n",
      "Epoch 64/300\n",
      "12/12 [==============================] - 7s 560ms/step - loss: 1.0254 - acc: 0.6517 - val_loss: 1.6161 - val_acc: 0.5570\n",
      "Epoch 65/300\n",
      "12/12 [==============================] - 7s 571ms/step - loss: 1.0214 - acc: 0.6754 - val_loss: 1.4145 - val_acc: 0.5063\n",
      "Epoch 66/300\n",
      "12/12 [==============================] - 7s 594ms/step - loss: 0.9720 - acc: 0.6562 - val_loss: 1.3080 - val_acc: 0.6456\n",
      "Epoch 67/300\n",
      "12/12 [==============================] - 7s 567ms/step - loss: 0.9259 - acc: 0.6914 - val_loss: 1.1775 - val_acc: 0.6875\n",
      "Epoch 68/300\n",
      "12/12 [==============================] - 7s 568ms/step - loss: 1.1006 - acc: 0.6231 - val_loss: 1.1717 - val_acc: 0.6456\n",
      "Epoch 69/300\n",
      "12/12 [==============================] - 7s 617ms/step - loss: 1.0402 - acc: 0.6098 - val_loss: 1.0809 - val_acc: 0.6835\n",
      "Epoch 70/300\n",
      "12/12 [==============================] - 7s 591ms/step - loss: 0.8636 - acc: 0.7092 - val_loss: 1.3173 - val_acc: 0.6456\n",
      "Epoch 71/300\n",
      "12/12 [==============================] - 7s 619ms/step - loss: 0.9132 - acc: 0.6625 - val_loss: 1.4453 - val_acc: 0.6456\n",
      "Epoch 72/300\n",
      "12/12 [==============================] - 7s 608ms/step - loss: 0.8773 - acc: 0.7068 - val_loss: 1.4349 - val_acc: 0.6329\n",
      "Epoch 73/300\n",
      "12/12 [==============================] - 7s 571ms/step - loss: 0.9449 - acc: 0.6649 - val_loss: 1.2549 - val_acc: 0.6500\n",
      "Epoch 74/300\n",
      "12/12 [==============================] - 7s 567ms/step - loss: 0.8452 - acc: 0.7225 - val_loss: 1.4772 - val_acc: 0.6329\n",
      "Epoch 75/300\n",
      "12/12 [==============================] - 7s 565ms/step - loss: 0.8378 - acc: 0.7409 - val_loss: 0.9746 - val_acc: 0.7089\n",
      "Epoch 76/300\n",
      "12/12 [==============================] - 7s 589ms/step - loss: 0.9356 - acc: 0.7277 - val_loss: 1.3441 - val_acc: 0.6329\n",
      "Epoch 77/300\n",
      "12/12 [==============================] - 7s 594ms/step - loss: 0.9663 - acc: 0.6545 - val_loss: 1.3195 - val_acc: 0.5949\n",
      "Epoch 78/300\n",
      "12/12 [==============================] - 7s 603ms/step - loss: 0.9061 - acc: 0.7542 - val_loss: 1.0884 - val_acc: 0.7342\n",
      "Epoch 79/300\n",
      "12/12 [==============================] - 7s 611ms/step - loss: 0.8752 - acc: 0.6771 - val_loss: 1.1745 - val_acc: 0.6500\n",
      "Epoch 80/300\n",
      "12/12 [==============================] - 7s 579ms/step - loss: 0.7862 - acc: 0.7148 - val_loss: 1.0267 - val_acc: 0.6582\n",
      "Epoch 81/300\n",
      "12/12 [==============================] - 8s 631ms/step - loss: 0.8374 - acc: 0.6991 - val_loss: 1.4129 - val_acc: 0.6582\n",
      "Epoch 82/300\n",
      "12/12 [==============================] - 7s 584ms/step - loss: 0.9632 - acc: 0.6988 - val_loss: 1.1331 - val_acc: 0.6329\n",
      "Epoch 83/300\n",
      "12/12 [==============================] - 7s 585ms/step - loss: 0.9638 - acc: 0.6597 - val_loss: 1.4571 - val_acc: 0.5823\n",
      "Epoch 84/300\n",
      "12/12 [==============================] - 7s 578ms/step - loss: 0.8550 - acc: 0.7123 - val_loss: 1.0499 - val_acc: 0.7342\n",
      "Epoch 85/300\n",
      "12/12 [==============================] - 7s 574ms/step - loss: 0.7299 - acc: 0.7542 - val_loss: 1.1194 - val_acc: 0.6500\n",
      "Epoch 86/300\n",
      "12/12 [==============================] - 7s 586ms/step - loss: 0.8506 - acc: 0.7305 - val_loss: 1.3939 - val_acc: 0.5823\n",
      "Epoch 87/300\n",
      "12/12 [==============================] - 7s 574ms/step - loss: 0.8959 - acc: 0.6858 - val_loss: 1.0263 - val_acc: 0.7215\n",
      "Epoch 88/300\n",
      "12/12 [==============================] - 7s 570ms/step - loss: 0.8899 - acc: 0.7120 - val_loss: 1.1761 - val_acc: 0.7215\n",
      "Epoch 89/300\n",
      "12/12 [==============================] - 7s 566ms/step - loss: 0.9372 - acc: 0.6988 - val_loss: 1.0986 - val_acc: 0.6456\n",
      "Epoch 90/300\n",
      "12/12 [==============================] - 7s 572ms/step - loss: 0.7980 - acc: 0.7406 - val_loss: 1.2865 - val_acc: 0.6582\n",
      "Epoch 91/300\n",
      "12/12 [==============================] - 7s 576ms/step - loss: 0.8153 - acc: 0.6883 - val_loss: 0.9006 - val_acc: 0.6875\n",
      "Epoch 92/300\n",
      "12/12 [==============================] - 8s 653ms/step - loss: 0.8588 - acc: 0.7188 - val_loss: 1.5803 - val_acc: 0.6709\n",
      "Epoch 93/300\n",
      "12/12 [==============================] - 8s 640ms/step - loss: 0.7324 - acc: 0.7434 - val_loss: 1.0672 - val_acc: 0.6582\n",
      "Epoch 94/300\n",
      "12/12 [==============================] - 7s 623ms/step - loss: 0.8260 - acc: 0.7015 - val_loss: 1.0468 - val_acc: 0.7342\n",
      "Epoch 95/300\n",
      "12/12 [==============================] - 8s 642ms/step - loss: 0.8551 - acc: 0.6911 - val_loss: 1.3030 - val_acc: 0.6582\n",
      "Epoch 96/300\n",
      "12/12 [==============================] - 8s 632ms/step - loss: 0.5501 - acc: 0.7957 - val_loss: 1.1214 - val_acc: 0.6709\n",
      "Epoch 97/300\n",
      "12/12 [==============================] - 8s 628ms/step - loss: 0.6036 - acc: 0.7908 - val_loss: 1.1499 - val_acc: 0.6875\n",
      "Epoch 98/300\n",
      "12/12 [==============================] - 8s 630ms/step - loss: 0.7871 - acc: 0.7176 - val_loss: 1.0910 - val_acc: 0.7089\n",
      "Epoch 99/300\n",
      "12/12 [==============================] - 8s 637ms/step - loss: 0.5582 - acc: 0.8114 - val_loss: 1.1111 - val_acc: 0.6582\n",
      "Epoch 100/300\n",
      "12/12 [==============================] - 8s 636ms/step - loss: 0.8342 - acc: 0.7643 - val_loss: 1.2462 - val_acc: 0.6582\n",
      "Epoch 101/300\n",
      "12/12 [==============================] - 8s 628ms/step - loss: 0.6474 - acc: 0.7985 - val_loss: 1.2026 - val_acc: 0.7089\n",
      "Epoch 102/300\n",
      "12/12 [==============================] - 8s 643ms/step - loss: 0.6803 - acc: 0.7538 - val_loss: 1.1953 - val_acc: 0.7342\n",
      "Epoch 103/300\n",
      "12/12 [==============================] - 8s 672ms/step - loss: 0.6977 - acc: 0.7381 - val_loss: 1.0829 - val_acc: 0.6875\n",
      "Epoch 104/300\n",
      "12/12 [==============================] - 8s 669ms/step - loss: 0.7284 - acc: 0.7591 - val_loss: 1.6727 - val_acc: 0.6835\n",
      "Epoch 105/300\n",
      "12/12 [==============================] - 9s 766ms/step - loss: 0.5927 - acc: 0.7865 - val_loss: 1.1187 - val_acc: 0.7089\n",
      "Epoch 106/300\n",
      "12/12 [==============================] - 8s 676ms/step - loss: 0.6185 - acc: 0.7880 - val_loss: 1.5965 - val_acc: 0.6835\n",
      "Epoch 107/300\n",
      "12/12 [==============================] - 8s 641ms/step - loss: 0.7413 - acc: 0.8166 - val_loss: 1.0876 - val_acc: 0.7089\n",
      "Epoch 108/300\n",
      "12/12 [==============================] - 8s 643ms/step - loss: 0.8562 - acc: 0.7381 - val_loss: 1.1775 - val_acc: 0.6835\n",
      "Epoch 109/300\n",
      "12/12 [==============================] - 8s 639ms/step - loss: 0.6334 - acc: 0.8117 - val_loss: 1.2343 - val_acc: 0.7000\n",
      "Epoch 110/300\n",
      "12/12 [==============================] - 8s 642ms/step - loss: 0.7036 - acc: 0.7695 - val_loss: 1.0440 - val_acc: 0.7468\n",
      "Epoch 111/300\n",
      "12/12 [==============================] - 8s 631ms/step - loss: 0.6311 - acc: 0.7615 - val_loss: 1.1226 - val_acc: 0.7215\n",
      "Epoch 112/300\n",
      "12/12 [==============================] - 8s 635ms/step - loss: 0.5927 - acc: 0.7723 - val_loss: 1.2058 - val_acc: 0.6962\n",
      "Epoch 113/300\n",
      "12/12 [==============================] - 8s 628ms/step - loss: 0.5882 - acc: 0.8274 - val_loss: 1.3079 - val_acc: 0.6456\n",
      "Epoch 114/300\n",
      "12/12 [==============================] - 8s 634ms/step - loss: 0.6881 - acc: 0.8009 - val_loss: 1.1773 - val_acc: 0.7468\n",
      "Epoch 115/300\n",
      "12/12 [==============================] - 8s 638ms/step - loss: 0.6192 - acc: 0.8222 - val_loss: 1.0778 - val_acc: 0.7000\n",
      "Epoch 116/300\n",
      "12/12 [==============================] - 8s 637ms/step - loss: 0.6005 - acc: 0.8012 - val_loss: 1.1902 - val_acc: 0.7342\n",
      "Epoch 117/300\n",
      "12/12 [==============================] - 8s 633ms/step - loss: 0.5905 - acc: 0.8089 - val_loss: 1.3264 - val_acc: 0.6962\n",
      "Epoch 118/300\n",
      "12/12 [==============================] - 8s 668ms/step - loss: 0.8036 - acc: 0.6875 - val_loss: 1.0916 - val_acc: 0.7848\n",
      "Epoch 119/300\n",
      "12/12 [==============================] - 7s 622ms/step - loss: 0.5408 - acc: 0.8274 - val_loss: 1.2084 - val_acc: 0.6835\n",
      "Epoch 120/300\n",
      "12/12 [==============================] - 8s 628ms/step - loss: 0.6729 - acc: 0.7803 - val_loss: 1.1129 - val_acc: 0.7468\n",
      "Epoch 121/300\n",
      "12/12 [==============================] - 7s 622ms/step - loss: 0.6651 - acc: 0.7800 - val_loss: 0.9078 - val_acc: 0.8000\n",
      "Epoch 122/300\n",
      "12/12 [==============================] - 7s 625ms/step - loss: 0.6558 - acc: 0.8065 - val_loss: 1.2568 - val_acc: 0.7089\n",
      "Epoch 123/300\n"
     ]
    },
    {
     "name": "stdout",
     "output_type": "stream",
     "text": [
      "12/12 [==============================] - 7s 621ms/step - loss: 0.5638 - acc: 0.8089 - val_loss: 1.2742 - val_acc: 0.6962\n",
      "Epoch 124/300\n",
      "12/12 [==============================] - 7s 615ms/step - loss: 0.6968 - acc: 0.7643 - val_loss: 0.9946 - val_acc: 0.7215\n",
      "Epoch 125/300\n",
      "12/12 [==============================] - 7s 617ms/step - loss: 0.6880 - acc: 0.7908 - val_loss: 0.9843 - val_acc: 0.7722\n",
      "Epoch 126/300\n",
      "12/12 [==============================] - 8s 634ms/step - loss: 0.5467 - acc: 0.8037 - val_loss: 1.2210 - val_acc: 0.7215\n",
      "Epoch 127/300\n",
      "12/12 [==============================] - 7s 623ms/step - loss: 0.7449 - acc: 0.7619 - val_loss: 1.0651 - val_acc: 0.7250\n",
      "Epoch 128/300\n",
      "12/12 [==============================] - 7s 597ms/step - loss: 0.6866 - acc: 0.7563 - val_loss: 1.0109 - val_acc: 0.7215\n",
      "Epoch 129/300\n",
      "12/12 [==============================] - 7s 622ms/step - loss: 0.5886 - acc: 0.8037 - val_loss: 1.1328 - val_acc: 0.7089\n",
      "Epoch 130/300\n",
      "12/12 [==============================] - 8s 661ms/step - loss: 0.4591 - acc: 0.8640 - val_loss: 1.2787 - val_acc: 0.7215\n",
      "Epoch 131/300\n",
      "12/12 [==============================] - 8s 654ms/step - loss: 0.5139 - acc: 0.7969 - val_loss: 0.9750 - val_acc: 0.7468\n",
      "Epoch 132/300\n",
      "12/12 [==============================] - 8s 636ms/step - loss: 0.4774 - acc: 0.8169 - val_loss: 1.3005 - val_acc: 0.7468\n",
      "Epoch 133/300\n",
      "12/12 [==============================] - 8s 678ms/step - loss: 0.4516 - acc: 0.8326 - val_loss: 1.1340 - val_acc: 0.7750\n",
      "Epoch 134/300\n",
      "12/12 [==============================] - 8s 643ms/step - loss: 0.7335 - acc: 0.7985 - val_loss: 1.1935 - val_acc: 0.6835\n",
      "Epoch 135/300\n",
      "12/12 [==============================] - 7s 608ms/step - loss: 0.5844 - acc: 0.7751 - val_loss: 0.7662 - val_acc: 0.7468\n",
      "Epoch 136/300\n",
      "12/12 [==============================] - 7s 610ms/step - loss: 0.5619 - acc: 0.7880 - val_loss: 1.4683 - val_acc: 0.7089\n",
      "Epoch 137/300\n",
      "12/12 [==============================] - 7s 603ms/step - loss: 0.5565 - acc: 0.8142 - val_loss: 0.9914 - val_acc: 0.7848\n",
      "Epoch 138/300\n",
      "12/12 [==============================] - 7s 605ms/step - loss: 0.6319 - acc: 0.8037 - val_loss: 1.2759 - val_acc: 0.7468\n",
      "Epoch 139/300\n",
      "12/12 [==============================] - 7s 614ms/step - loss: 0.7717 - acc: 0.7957 - val_loss: 1.2021 - val_acc: 0.7625\n",
      "Epoch 140/300\n",
      "12/12 [==============================] - 8s 645ms/step - loss: 0.5782 - acc: 0.7957 - val_loss: 1.3073 - val_acc: 0.6582\n",
      "Epoch 141/300\n",
      "12/12 [==============================] - 7s 601ms/step - loss: 0.5715 - acc: 0.7932 - val_loss: 1.4194 - val_acc: 0.7342\n",
      "Epoch 142/300\n",
      "12/12 [==============================] - 7s 610ms/step - loss: 0.6087 - acc: 0.7514 - val_loss: 1.0976 - val_acc: 0.7089\n",
      "Epoch 143/300\n",
      "12/12 [==============================] - 8s 656ms/step - loss: 0.5005 - acc: 0.8271 - val_loss: 1.1433 - val_acc: 0.7342\n",
      "Epoch 144/300\n",
      "12/12 [==============================] - 8s 630ms/step - loss: 0.4675 - acc: 0.8438 - val_loss: 1.0752 - val_acc: 0.7468\n",
      "Epoch 145/300\n",
      "12/12 [==============================] - 7s 578ms/step - loss: 0.4331 - acc: 0.8532 - val_loss: 1.2739 - val_acc: 0.7125\n",
      "Epoch 146/300\n",
      "12/12 [==============================] - 7s 580ms/step - loss: 0.5358 - acc: 0.8142 - val_loss: 1.2081 - val_acc: 0.7468\n",
      "Epoch 147/300\n",
      "12/12 [==============================] - 7s 580ms/step - loss: 0.5711 - acc: 0.8375 - val_loss: 1.0771 - val_acc: 0.7089\n",
      "Epoch 148/300\n",
      "12/12 [==============================] - 7s 577ms/step - loss: 0.5572 - acc: 0.8089 - val_loss: 0.9356 - val_acc: 0.7848\n",
      "Epoch 149/300\n",
      "12/12 [==============================] - 7s 587ms/step - loss: 0.3923 - acc: 0.8692 - val_loss: 1.1788 - val_acc: 0.7342\n",
      "Epoch 150/300\n",
      "12/12 [==============================] - 7s 595ms/step - loss: 0.4836 - acc: 0.8246 - val_loss: 0.9944 - val_acc: 0.7089\n",
      "Epoch 151/300\n",
      "12/12 [==============================] - 7s 590ms/step - loss: 0.4096 - acc: 0.8166 - val_loss: 0.9773 - val_acc: 0.7625\n",
      "Epoch 152/300\n",
      "12/12 [==============================] - 7s 611ms/step - loss: 0.5685 - acc: 0.8379 - val_loss: 1.6760 - val_acc: 0.7215\n",
      "Epoch 153/300\n",
      "12/12 [==============================] - 8s 635ms/step - loss: 0.7422 - acc: 0.7667 - val_loss: 1.0217 - val_acc: 0.7342\n",
      "Epoch 154/300\n",
      "12/12 [==============================] - 7s 605ms/step - loss: 0.6227 - acc: 0.7646 - val_loss: 1.5888 - val_acc: 0.7089\n",
      "Epoch 155/300\n",
      "12/12 [==============================] - 7s 588ms/step - loss: 0.6642 - acc: 0.8194 - val_loss: 0.8179 - val_acc: 0.7975\n",
      "Epoch 156/300\n",
      "12/12 [==============================] - 7s 579ms/step - loss: 0.5299 - acc: 0.8089 - val_loss: 1.3234 - val_acc: 0.7722\n",
      "Epoch 157/300\n",
      "12/12 [==============================] - 8s 660ms/step - loss: 0.5064 - acc: 0.8177 - val_loss: 0.8671 - val_acc: 0.7750\n",
      "Epoch 158/300\n",
      "12/12 [==============================] - 7s 611ms/step - loss: 0.4292 - acc: 0.8455 - val_loss: 1.1173 - val_acc: 0.7848\n",
      "Epoch 159/300\n",
      "12/12 [==============================] - 7s 610ms/step - loss: 0.4954 - acc: 0.8536 - val_loss: 1.6529 - val_acc: 0.6709\n",
      "Epoch 160/300\n",
      "12/12 [==============================] - 7s 606ms/step - loss: 0.5427 - acc: 0.8194 - val_loss: 1.1528 - val_acc: 0.7342\n",
      "Epoch 161/300\n",
      "12/12 [==============================] - 7s 585ms/step - loss: 0.5366 - acc: 0.8037 - val_loss: 1.2798 - val_acc: 0.7215\n",
      "Epoch 162/300\n",
      "12/12 [==============================] - 7s 581ms/step - loss: 0.6938 - acc: 0.8166 - val_loss: 1.4317 - val_acc: 0.7089\n",
      "Epoch 163/300\n",
      "12/12 [==============================] - 7s 584ms/step - loss: 0.6860 - acc: 0.7932 - val_loss: 1.2235 - val_acc: 0.7000\n",
      "Epoch 164/300\n",
      "12/12 [==============================] - 7s 622ms/step - loss: 0.5370 - acc: 0.8166 - val_loss: 1.0601 - val_acc: 0.7975\n",
      "Epoch 165/300\n",
      "12/12 [==============================] - 8s 674ms/step - loss: 0.3879 - acc: 0.8640 - val_loss: 1.3466 - val_acc: 0.7089\n",
      "Epoch 166/300\n",
      "12/12 [==============================] - 8s 666ms/step - loss: 0.3888 - acc: 0.8665 - val_loss: 1.1876 - val_acc: 0.7215\n",
      "Epoch 167/300\n",
      "12/12 [==============================] - 8s 647ms/step - loss: 0.5212 - acc: 0.8298 - val_loss: 1.1523 - val_acc: 0.6962\n",
      "Epoch 168/300\n",
      "12/12 [==============================] - 8s 634ms/step - loss: 0.5092 - acc: 0.8588 - val_loss: 1.3897 - val_acc: 0.7595\n",
      "Epoch 169/300\n",
      "12/12 [==============================] - 8s 638ms/step - loss: 0.4218 - acc: 0.8351 - val_loss: 1.4516 - val_acc: 0.7250\n",
      "Epoch 170/300\n",
      "12/12 [==============================] - 8s 670ms/step - loss: 0.3908 - acc: 0.8542 - val_loss: 0.6484 - val_acc: 0.8734\n",
      "Epoch 171/300\n",
      "12/12 [==============================] - 8s 668ms/step - loss: 0.4013 - acc: 0.8560 - val_loss: 1.7060 - val_acc: 0.6709\n",
      "Epoch 172/300\n",
      "12/12 [==============================] - 8s 632ms/step - loss: 0.5317 - acc: 0.8009 - val_loss: 1.1680 - val_acc: 0.6962\n",
      "Epoch 173/300\n",
      "12/12 [==============================] - 7s 574ms/step - loss: 0.4384 - acc: 0.8403 - val_loss: 1.2023 - val_acc: 0.7848\n",
      "Epoch 174/300\n",
      "12/12 [==============================] - 7s 582ms/step - loss: 0.5108 - acc: 0.8326 - val_loss: 0.8904 - val_acc: 0.7975\n",
      "Epoch 175/300\n",
      "12/12 [==============================] - 7s 578ms/step - loss: 0.4491 - acc: 0.8536 - val_loss: 0.9389 - val_acc: 0.8125\n",
      "Epoch 176/300\n",
      "12/12 [==============================] - 7s 571ms/step - loss: 0.2846 - acc: 0.8954 - val_loss: 0.9011 - val_acc: 0.7468\n",
      "Epoch 177/300\n",
      "12/12 [==============================] - 7s 568ms/step - loss: 0.3706 - acc: 0.8692 - val_loss: 1.9020 - val_acc: 0.6582\n",
      "Epoch 178/300\n",
      "12/12 [==============================] - 7s 569ms/step - loss: 0.3193 - acc: 0.8874 - val_loss: 1.5588 - val_acc: 0.7595\n",
      "Epoch 179/300\n",
      "12/12 [==============================] - 7s 574ms/step - loss: 0.4109 - acc: 0.8218 - val_loss: 1.1790 - val_acc: 0.7468\n",
      "Epoch 180/300\n",
      "12/12 [==============================] - 7s 570ms/step - loss: 0.4815 - acc: 0.8431 - val_loss: 1.4791 - val_acc: 0.6709\n",
      "Epoch 181/300\n",
      "12/12 [==============================] - 7s 578ms/step - loss: 0.6534 - acc: 0.8169 - val_loss: 1.2768 - val_acc: 0.6375\n",
      "Epoch 182/300\n",
      "12/12 [==============================] - 7s 571ms/step - loss: 0.4785 - acc: 0.8351 - val_loss: 1.0620 - val_acc: 0.7595\n",
      "Epoch 183/300\n",
      "12/12 [==============================] - 7s 606ms/step - loss: 0.4873 - acc: 0.8333 - val_loss: 1.2885 - val_acc: 0.7722\n"
     ]
    },
    {
     "name": "stdout",
     "output_type": "stream",
     "text": [
      "Epoch 184/300\n",
      "12/12 [==============================] - 7s 572ms/step - loss: 0.5201 - acc: 0.8142 - val_loss: 0.9379 - val_acc: 0.7595\n",
      "Epoch 185/300\n",
      "12/12 [==============================] - 7s 577ms/step - loss: 0.4680 - acc: 0.8428 - val_loss: 1.1162 - val_acc: 0.7722\n",
      "Epoch 186/300\n",
      "12/12 [==============================] - 7s 573ms/step - loss: 0.3665 - acc: 0.8717 - val_loss: 1.3075 - val_acc: 0.7342\n",
      "Epoch 187/300\n",
      "12/12 [==============================] - 7s 570ms/step - loss: 0.5033 - acc: 0.8218 - val_loss: 1.2407 - val_acc: 0.8125\n",
      "Epoch 188/300\n",
      "12/12 [==============================] - 7s 572ms/step - loss: 0.3789 - acc: 0.8692 - val_loss: 0.8011 - val_acc: 0.8228\n",
      "Epoch 189/300\n",
      "12/12 [==============================] - 7s 566ms/step - loss: 0.3830 - acc: 0.8692 - val_loss: 1.4361 - val_acc: 0.7089\n",
      "Epoch 190/300\n",
      "12/12 [==============================] - 7s 571ms/step - loss: 0.4359 - acc: 0.8194 - val_loss: 1.2371 - val_acc: 0.7848\n",
      "Epoch 191/300\n",
      "12/12 [==============================] - 7s 572ms/step - loss: 0.2846 - acc: 0.8902 - val_loss: 1.6245 - val_acc: 0.7342\n",
      "Epoch 192/300\n",
      "12/12 [==============================] - 7s 581ms/step - loss: 0.4029 - acc: 0.8745 - val_loss: 1.1738 - val_acc: 0.7342\n",
      "Epoch 193/300\n",
      "12/12 [==============================] - 7s 575ms/step - loss: 0.4411 - acc: 0.8640 - val_loss: 1.1877 - val_acc: 0.7125\n",
      "Epoch 194/300\n",
      "12/12 [==============================] - 7s 569ms/step - loss: 0.4625 - acc: 0.8351 - val_loss: 1.2861 - val_acc: 0.7342\n",
      "Epoch 195/300\n",
      "12/12 [==============================] - 7s 575ms/step - loss: 0.3868 - acc: 0.8455 - val_loss: 1.2365 - val_acc: 0.7215\n",
      "Epoch 196/300\n",
      "12/12 [==============================] - 7s 600ms/step - loss: 0.5088 - acc: 0.8125 - val_loss: 0.8893 - val_acc: 0.7975\n",
      "Epoch 197/300\n",
      "12/12 [==============================] - 7s 577ms/step - loss: 0.3979 - acc: 0.8584 - val_loss: 1.2804 - val_acc: 0.7722\n",
      "Epoch 198/300\n",
      "12/12 [==============================] - 7s 571ms/step - loss: 0.3970 - acc: 0.8745 - val_loss: 1.1887 - val_acc: 0.7722\n",
      "Epoch 199/300\n",
      "12/12 [==============================] - 7s 571ms/step - loss: 0.4332 - acc: 0.8323 - val_loss: 1.1008 - val_acc: 0.7750\n",
      "Epoch 200/300\n",
      "12/12 [==============================] - 7s 574ms/step - loss: 0.3257 - acc: 0.8978 - val_loss: 1.1685 - val_acc: 0.7468\n",
      "Epoch 201/300\n",
      "12/12 [==============================] - 7s 577ms/step - loss: 0.5572 - acc: 0.7932 - val_loss: 0.8945 - val_acc: 0.8228\n",
      "Epoch 202/300\n",
      "12/12 [==============================] - 7s 569ms/step - loss: 0.3562 - acc: 0.8612 - val_loss: 1.7284 - val_acc: 0.7215\n",
      "Epoch 203/300\n",
      "12/12 [==============================] - 7s 568ms/step - loss: 0.4470 - acc: 0.8455 - val_loss: 1.4188 - val_acc: 0.6962\n",
      "Epoch 204/300\n",
      "12/12 [==============================] - 7s 567ms/step - loss: 0.3810 - acc: 0.8403 - val_loss: 1.1016 - val_acc: 0.7342\n",
      "Epoch 205/300\n",
      "12/12 [==============================] - 7s 569ms/step - loss: 0.3646 - acc: 0.9059 - val_loss: 1.1690 - val_acc: 0.7875\n",
      "Epoch 206/300\n",
      "12/12 [==============================] - 7s 570ms/step - loss: 0.3149 - acc: 0.8898 - val_loss: 1.5622 - val_acc: 0.7215\n",
      "Epoch 207/300\n",
      "12/12 [==============================] - 7s 571ms/step - loss: 0.3685 - acc: 0.8902 - val_loss: 0.7522 - val_acc: 0.8608\n",
      "Epoch 208/300\n",
      "12/12 [==============================] - 7s 569ms/step - loss: 0.4557 - acc: 0.8508 - val_loss: 1.6366 - val_acc: 0.7468\n",
      "Epoch 209/300\n",
      "12/12 [==============================] - 7s 609ms/step - loss: 0.5416 - acc: 0.8333 - val_loss: 1.1808 - val_acc: 0.7848\n",
      "Epoch 210/300\n",
      "12/12 [==============================] - 7s 569ms/step - loss: 0.3060 - acc: 0.9163 - val_loss: 1.4687 - val_acc: 0.7468\n",
      "Epoch 211/300\n",
      "12/12 [==============================] - 7s 573ms/step - loss: 0.3656 - acc: 0.8323 - val_loss: 1.2433 - val_acc: 0.7375\n",
      "Epoch 212/300\n",
      "12/12 [==============================] - 7s 570ms/step - loss: 0.4871 - acc: 0.8326 - val_loss: 1.3056 - val_acc: 0.7722\n",
      "Epoch 213/300\n",
      "12/12 [==============================] - 7s 571ms/step - loss: 0.3453 - acc: 0.8849 - val_loss: 0.9590 - val_acc: 0.7848\n",
      "Epoch 214/300\n",
      "12/12 [==============================] - 7s 610ms/step - loss: 0.2680 - acc: 0.8849 - val_loss: 1.5461 - val_acc: 0.7468\n",
      "Epoch 215/300\n",
      "12/12 [==============================] - 7s 599ms/step - loss: 0.6210 - acc: 0.8480 - val_loss: 1.3346 - val_acc: 0.7089\n",
      "Epoch 216/300\n",
      "12/12 [==============================] - 7s 621ms/step - loss: 0.4387 - acc: 0.8428 - val_loss: 1.4859 - val_acc: 0.7595\n",
      "Epoch 217/300\n",
      "12/12 [==============================] - 7s 574ms/step - loss: 0.4087 - acc: 0.8640 - val_loss: 1.0109 - val_acc: 0.7750\n",
      "Epoch 218/300\n",
      "12/12 [==============================] - 7s 624ms/step - loss: 0.5462 - acc: 0.8089 - val_loss: 1.5231 - val_acc: 0.6582\n",
      "Epoch 219/300\n",
      "12/12 [==============================] - 7s 624ms/step - loss: 0.3409 - acc: 0.8849 - val_loss: 1.2640 - val_acc: 0.7215\n",
      "Epoch 220/300\n",
      "12/12 [==============================] - 7s 584ms/step - loss: 0.3729 - acc: 0.8874 - val_loss: 0.9487 - val_acc: 0.8354\n",
      "Epoch 221/300\n",
      "12/12 [==============================] - 7s 578ms/step - loss: 0.4921 - acc: 0.8403 - val_loss: 1.6640 - val_acc: 0.7595\n",
      "Epoch 222/300\n",
      "12/12 [==============================] - 7s 597ms/step - loss: 0.3166 - acc: 0.8906 - val_loss: 0.9899 - val_acc: 0.7722\n",
      "Epoch 223/300\n",
      "12/12 [==============================] - 7s 574ms/step - loss: 0.3284 - acc: 0.8821 - val_loss: 1.4506 - val_acc: 0.7625\n",
      "Epoch 224/300\n",
      "12/12 [==============================] - 7s 580ms/step - loss: 0.3514 - acc: 0.8821 - val_loss: 1.5112 - val_acc: 0.7342\n",
      "Epoch 225/300\n",
      "12/12 [==============================] - 7s 596ms/step - loss: 0.4153 - acc: 0.8560 - val_loss: 1.3110 - val_acc: 0.7722\n",
      "Epoch 226/300\n",
      "12/12 [==============================] - 7s 592ms/step - loss: 0.2623 - acc: 0.9215 - val_loss: 1.4766 - val_acc: 0.7089\n",
      "Epoch 227/300\n",
      "12/12 [==============================] - 7s 595ms/step - loss: 0.4053 - acc: 0.8640 - val_loss: 1.2392 - val_acc: 0.7215\n",
      "Epoch 228/300\n",
      "12/12 [==============================] - 7s 601ms/step - loss: 0.2159 - acc: 0.9425 - val_loss: 1.4523 - val_acc: 0.7848\n",
      "Epoch 229/300\n",
      "12/12 [==============================] - 8s 638ms/step - loss: 0.3125 - acc: 0.8769 - val_loss: 1.2791 - val_acc: 0.7750\n",
      "Epoch 230/300\n",
      "12/12 [==============================] - 7s 569ms/step - loss: 0.3311 - acc: 0.8954 - val_loss: 1.2210 - val_acc: 0.7722\n",
      "Epoch 231/300\n",
      "12/12 [==============================] - 7s 599ms/step - loss: 0.5538 - acc: 0.8532 - val_loss: 1.1805 - val_acc: 0.7975\n",
      "Epoch 232/300\n",
      "12/12 [==============================] - 7s 570ms/step - loss: 0.4157 - acc: 0.8689 - val_loss: 1.0751 - val_acc: 0.7722\n",
      "Epoch 233/300\n",
      "12/12 [==============================] - 7s 593ms/step - loss: 0.3881 - acc: 0.8640 - val_loss: 1.2577 - val_acc: 0.7722\n",
      "Epoch 234/300\n",
      "12/12 [==============================] - 7s 572ms/step - loss: 0.3780 - acc: 0.8821 - val_loss: 1.3005 - val_acc: 0.7595\n",
      "Epoch 235/300\n",
      "12/12 [==============================] - 7s 614ms/step - loss: 0.3715 - acc: 0.8698 - val_loss: 1.6108 - val_acc: 0.7000\n",
      "Epoch 236/300\n",
      "12/12 [==============================] - 7s 572ms/step - loss: 0.3362 - acc: 0.8874 - val_loss: 1.2942 - val_acc: 0.7848\n",
      "Epoch 237/300\n",
      "12/12 [==============================] - 8s 626ms/step - loss: 0.3851 - acc: 0.8741 - val_loss: 1.0417 - val_acc: 0.7089\n",
      "Epoch 238/300\n",
      "12/12 [==============================] - 7s 593ms/step - loss: 0.4135 - acc: 0.8588 - val_loss: 1.4109 - val_acc: 0.7722\n",
      "Epoch 239/300\n",
      "12/12 [==============================] - 7s 567ms/step - loss: 0.3064 - acc: 0.8902 - val_loss: 1.1125 - val_acc: 0.7848\n",
      "Epoch 240/300\n",
      "12/12 [==============================] - 7s 574ms/step - loss: 0.3693 - acc: 0.8745 - val_loss: 1.3903 - val_acc: 0.6962\n",
      "Epoch 241/300\n",
      "12/12 [==============================] - 7s 609ms/step - loss: 0.3082 - acc: 0.9006 - val_loss: 1.4576 - val_acc: 0.7750\n",
      "Epoch 242/300\n",
      "12/12 [==============================] - 7s 589ms/step - loss: 0.2306 - acc: 0.9240 - val_loss: 1.0442 - val_acc: 0.7722\n",
      "Epoch 243/300\n",
      "12/12 [==============================] - 7s 620ms/step - loss: 0.2314 - acc: 0.9107 - val_loss: 1.4363 - val_acc: 0.7975\n",
      "Epoch 244/300\n",
      "12/12 [==============================] - 7s 570ms/step - loss: 0.3183 - acc: 0.9083 - val_loss: 1.3092 - val_acc: 0.7595\n"
     ]
    },
    {
     "name": "stdout",
     "output_type": "stream",
     "text": [
      "Epoch 245/300\n",
      "12/12 [==============================] - 7s 573ms/step - loss: 0.2733 - acc: 0.8978 - val_loss: 1.4719 - val_acc: 0.7468\n",
      "Epoch 246/300\n",
      "12/12 [==============================] - 7s 572ms/step - loss: 0.2628 - acc: 0.9031 - val_loss: 1.1366 - val_acc: 0.7722\n",
      "Epoch 247/300\n",
      "12/12 [==============================] - 7s 561ms/step - loss: 0.3397 - acc: 0.8745 - val_loss: 1.5368 - val_acc: 0.7625\n",
      "Epoch 248/300\n",
      "12/12 [==============================] - 7s 599ms/step - loss: 0.2982 - acc: 0.9115 - val_loss: 1.4040 - val_acc: 0.7722\n",
      "Epoch 249/300\n",
      "12/12 [==============================] - 7s 568ms/step - loss: 0.4185 - acc: 0.8637 - val_loss: 1.3180 - val_acc: 0.7975\n",
      "Epoch 250/300\n",
      "12/12 [==============================] - 7s 566ms/step - loss: 0.3721 - acc: 0.8902 - val_loss: 1.0720 - val_acc: 0.7722\n",
      "Epoch 251/300\n",
      "12/12 [==============================] - 7s 567ms/step - loss: 0.3915 - acc: 0.8902 - val_loss: 1.2246 - val_acc: 0.7468\n",
      "Epoch 252/300\n",
      "12/12 [==============================] - 7s 594ms/step - loss: 0.1989 - acc: 0.9320 - val_loss: 1.0060 - val_acc: 0.8101\n",
      "Epoch 253/300\n",
      "12/12 [==============================] - 7s 575ms/step - loss: 0.3025 - acc: 0.9059 - val_loss: 1.1123 - val_acc: 0.8000\n",
      "Epoch 254/300\n",
      "12/12 [==============================] - 7s 571ms/step - loss: 0.2958 - acc: 0.9188 - val_loss: 1.2364 - val_acc: 0.7975\n",
      "Epoch 255/300\n",
      "12/12 [==============================] - 7s 567ms/step - loss: 0.3319 - acc: 0.8821 - val_loss: 1.1907 - val_acc: 0.7848\n",
      "Epoch 256/300\n",
      "12/12 [==============================] - 7s 573ms/step - loss: 0.3161 - acc: 0.9006 - val_loss: 1.1705 - val_acc: 0.7848\n",
      "Epoch 257/300\n",
      "12/12 [==============================] - 7s 581ms/step - loss: 0.2632 - acc: 0.9111 - val_loss: 1.5064 - val_acc: 0.7468\n",
      "Epoch 258/300\n",
      "12/12 [==============================] - 7s 576ms/step - loss: 0.3489 - acc: 0.8665 - val_loss: 1.1586 - val_acc: 0.7975\n",
      "Epoch 259/300\n",
      "12/12 [==============================] - 7s 579ms/step - loss: 0.5915 - acc: 0.8034 - val_loss: 1.2989 - val_acc: 0.7125\n",
      "Epoch 260/300\n",
      "12/12 [==============================] - 7s 584ms/step - loss: 0.7323 - acc: 0.7824 - val_loss: 1.4814 - val_acc: 0.7215\n",
      "Epoch 261/300\n",
      "12/12 [==============================] - 7s 597ms/step - loss: 0.5543 - acc: 0.8073 - val_loss: 1.5061 - val_acc: 0.7595\n",
      "Epoch 262/300\n",
      "12/12 [==============================] - 7s 564ms/step - loss: 0.5435 - acc: 0.8246 - val_loss: 0.8838 - val_acc: 0.8101\n",
      "Epoch 263/300\n",
      "12/12 [==============================] - 7s 569ms/step - loss: 0.3332 - acc: 0.9006 - val_loss: 1.2448 - val_acc: 0.8354\n",
      "Epoch 264/300\n",
      "12/12 [==============================] - 7s 569ms/step - loss: 0.2402 - acc: 0.9059 - val_loss: 1.2104 - val_acc: 0.8608\n",
      "Epoch 265/300\n",
      "12/12 [==============================] - 7s 572ms/step - loss: 0.4509 - acc: 0.8584 - val_loss: 1.0949 - val_acc: 0.7875\n",
      "Epoch 266/300\n",
      "12/12 [==============================] - 7s 569ms/step - loss: 0.3642 - acc: 0.8665 - val_loss: 1.5118 - val_acc: 0.7595\n",
      "Epoch 267/300\n",
      "12/12 [==============================] - 7s 571ms/step - loss: 0.3380 - acc: 0.9006 - val_loss: 0.9451 - val_acc: 0.8354\n",
      "Epoch 268/300\n",
      "12/12 [==============================] - 7s 569ms/step - loss: 0.3519 - acc: 0.8665 - val_loss: 1.2616 - val_acc: 0.7595\n",
      "Epoch 269/300\n",
      "12/12 [==============================] - 7s 582ms/step - loss: 0.3051 - acc: 0.8954 - val_loss: 1.0928 - val_acc: 0.7468\n",
      "Epoch 270/300\n",
      "12/12 [==============================] - 7s 570ms/step - loss: 0.3006 - acc: 0.8821 - val_loss: 1.3629 - val_acc: 0.7342\n",
      "Epoch 271/300\n",
      "12/12 [==============================] - 7s 588ms/step - loss: 0.2763 - acc: 0.8874 - val_loss: 1.4616 - val_acc: 0.7625\n",
      "Epoch 272/300\n",
      "12/12 [==============================] - 7s 572ms/step - loss: 0.3723 - acc: 0.8769 - val_loss: 1.6224 - val_acc: 0.7848\n",
      "Epoch 273/300\n",
      "12/12 [==============================] - 7s 566ms/step - loss: 0.4930 - acc: 0.8508 - val_loss: 1.3967 - val_acc: 0.7215\n",
      "Epoch 274/300\n",
      "12/12 [==============================] - 7s 594ms/step - loss: 0.4374 - acc: 0.8594 - val_loss: 1.2860 - val_acc: 0.7848\n",
      "Epoch 275/300\n",
      "12/12 [==============================] - 7s 577ms/step - loss: 0.3886 - acc: 0.8741 - val_loss: 0.9494 - val_acc: 0.7848\n",
      "Epoch 276/300\n",
      "12/12 [==============================] - 7s 587ms/step - loss: 0.3684 - acc: 0.8874 - val_loss: 1.2064 - val_acc: 0.7215\n",
      "Epoch 277/300\n",
      "12/12 [==============================] - 7s 571ms/step - loss: 0.1917 - acc: 0.9320 - val_loss: 1.3460 - val_acc: 0.7625\n",
      "Epoch 278/300\n",
      "12/12 [==============================] - 7s 591ms/step - loss: 0.2850 - acc: 0.8898 - val_loss: 1.1277 - val_acc: 0.7848\n",
      "Epoch 279/300\n",
      "12/12 [==============================] - 7s 573ms/step - loss: 0.2967 - acc: 0.8902 - val_loss: 1.4447 - val_acc: 0.7722\n",
      "Epoch 280/300\n",
      "12/12 [==============================] - 7s 565ms/step - loss: 0.2958 - acc: 0.9031 - val_loss: 0.9490 - val_acc: 0.7975\n",
      "Epoch 281/300\n",
      "12/12 [==============================] - 7s 572ms/step - loss: 0.2156 - acc: 0.9163 - val_loss: 1.3355 - val_acc: 0.6709\n",
      "Epoch 282/300\n",
      "12/12 [==============================] - 7s 570ms/step - loss: 0.2297 - acc: 0.9135 - val_loss: 1.3133 - val_acc: 0.7848\n",
      "Epoch 283/300\n",
      "12/12 [==============================] - 7s 583ms/step - loss: 0.3577 - acc: 0.8821 - val_loss: 1.0529 - val_acc: 0.7750\n",
      "Epoch 284/300\n",
      "12/12 [==============================] - 7s 575ms/step - loss: 0.2476 - acc: 0.9111 - val_loss: 1.6510 - val_acc: 0.7089\n",
      "Epoch 285/300\n",
      "12/12 [==============================] - 7s 575ms/step - loss: 0.2138 - acc: 0.9320 - val_loss: 1.9096 - val_acc: 0.7595\n",
      "Epoch 286/300\n",
      "12/12 [==============================] - 7s 583ms/step - loss: 0.1998 - acc: 0.9372 - val_loss: 1.8243 - val_acc: 0.7342\n",
      "Epoch 287/300\n",
      "12/12 [==============================] - 7s 594ms/step - loss: 0.3499 - acc: 0.8854 - val_loss: 1.0268 - val_acc: 0.8228\n",
      "Epoch 288/300\n",
      "12/12 [==============================] - 7s 568ms/step - loss: 0.3250 - acc: 0.8898 - val_loss: 1.3301 - val_acc: 0.7468\n",
      "Epoch 289/300\n",
      "12/12 [==============================] - 7s 572ms/step - loss: 0.3104 - acc: 0.8978 - val_loss: 1.5328 - val_acc: 0.7125\n",
      "Epoch 290/300\n",
      "12/12 [==============================] - 7s 612ms/step - loss: 0.2797 - acc: 0.9268 - val_loss: 1.3501 - val_acc: 0.7848\n",
      "Epoch 291/300\n",
      "12/12 [==============================] - 7s 576ms/step - loss: 0.2534 - acc: 0.9006 - val_loss: 0.9350 - val_acc: 0.7595\n",
      "Epoch 292/300\n",
      "12/12 [==============================] - 7s 581ms/step - loss: 0.2294 - acc: 0.9135 - val_loss: 1.6068 - val_acc: 0.7468\n",
      "Epoch 293/300\n",
      "12/12 [==============================] - 7s 572ms/step - loss: 0.2331 - acc: 0.9215 - val_loss: 1.4823 - val_acc: 0.7848\n",
      "Epoch 294/300\n",
      "12/12 [==============================] - 7s 572ms/step - loss: 0.2460 - acc: 0.9083 - val_loss: 1.3171 - val_acc: 0.7595\n",
      "Epoch 295/300\n",
      "12/12 [==============================] - 7s 593ms/step - loss: 0.1951 - acc: 0.9449 - val_loss: 1.3519 - val_acc: 0.7750\n",
      "Epoch 296/300\n",
      "12/12 [==============================] - 8s 628ms/step - loss: 0.3348 - acc: 0.8926 - val_loss: 1.3214 - val_acc: 0.8354\n",
      "Epoch 297/300\n",
      "12/12 [==============================] - 7s 618ms/step - loss: 0.2608 - acc: 0.8846 - val_loss: 1.6724 - val_acc: 0.7468\n",
      "Epoch 298/300\n",
      "12/12 [==============================] - 8s 625ms/step - loss: 0.3075 - acc: 0.8821 - val_loss: 1.1361 - val_acc: 0.7848\n",
      "Epoch 299/300\n",
      "12/12 [==============================] - 7s 577ms/step - loss: 0.2204 - acc: 0.9268 - val_loss: 1.6105 - val_acc: 0.7089\n",
      "Epoch 300/300\n",
      "12/12 [==============================] - 7s 592ms/step - loss: 0.2340 - acc: 0.9062 - val_loss: 1.2960 - val_acc: 0.7595\n"
     ]
    },
    {
     "data": {
      "text/plain": [
       "<keras.callbacks.History at 0x1e682001978>"
      ]
     },
     "execution_count": 16,
     "metadata": {},
     "output_type": "execute_result"
    }
   ],
   "source": [
    "# fit the model on training data and validate against test data\n",
    "model.fit_generator(train_image_gen,                # training data\n",
    "                    epochs=300,                     # 300 epochs. An epoch is an iteration over the entire data provided\n",
    "                    steps_per_epoch=198//16,        # Total number of steps (batches of samples) to yield from generator\n",
    "                    validation_data=test_image_gen, # testing data\n",
    "                    validation_steps=95//16)        # Total number of steps (batches of samples) to yield from validation_data"
   ]
  },
  {
   "cell_type": "markdown",
   "metadata": {},
   "source": [
    "### We get an accuracy of 76% on test data. "
   ]
  },
  {
   "cell_type": "code",
   "execution_count": 17,
   "metadata": {
    "ExecuteTime": {
     "end_time": "2019-04-26T03:24:37.131816Z",
     "start_time": "2019-04-26T03:24:36.865607Z"
    }
   },
   "outputs": [],
   "source": [
    "# save the model\n",
    "model.save('hand_emoji_model.h5')"
   ]
  },
  {
   "cell_type": "code",
   "execution_count": 18,
   "metadata": {
    "ExecuteTime": {
     "end_time": "2019-04-26T03:25:57.660902Z",
     "start_time": "2019-04-26T03:25:57.631964Z"
    }
   },
   "outputs": [],
   "source": [
    "# save model weights\n",
    "model.save_weights('hand_emoji_model_weights.h5')"
   ]
  },
  {
   "cell_type": "markdown",
   "metadata": {},
   "source": [
    "Lets check our model prediction for a sample image which in this case is a __Thumbs Down Emoji__"
   ]
  },
  {
   "cell_type": "code",
   "execution_count": 16,
   "metadata": {
    "ExecuteTime": {
     "end_time": "2019-04-30T01:22:55.488490Z",
     "start_time": "2019-04-30T01:22:55.485507Z"
    }
   },
   "outputs": [],
   "source": [
    "# import numpy and keras image libraries\n",
    "from keras.preprocessing import image\n",
    "import numpy as np"
   ]
  },
  {
   "cell_type": "code",
   "execution_count": 17,
   "metadata": {
    "ExecuteTime": {
     "end_time": "2019-04-30T01:22:56.748668Z",
     "start_time": "2019-04-30T01:22:56.700798Z"
    }
   },
   "outputs": [],
   "source": [
    "# load the image and resize it to 150x150\n",
    "td = image.load_img('hand_emoji/test/Thumbs_Down/reversed_thumbs_down_sign(p).png', target_size=(150,150))"
   ]
  },
  {
   "cell_type": "code",
   "execution_count": 18,
   "metadata": {
    "ExecuteTime": {
     "end_time": "2019-04-30T01:23:02.259775Z",
     "start_time": "2019-04-30T01:23:02.254746Z"
    }
   },
   "outputs": [],
   "source": [
    "# convert the image to an Numpy array\n",
    "td = image.img_to_array(td)"
   ]
  },
  {
   "cell_type": "code",
   "execution_count": 19,
   "metadata": {
    "ExecuteTime": {
     "end_time": "2019-04-30T01:23:03.221345Z",
     "start_time": "2019-04-30T01:23:03.217367Z"
    }
   },
   "outputs": [],
   "source": [
    "# expand shape of the array\n",
    "td = np.expand_dims(td,axis=0)"
   ]
  },
  {
   "cell_type": "code",
   "execution_count": 20,
   "metadata": {
    "ExecuteTime": {
     "end_time": "2019-04-30T01:23:07.799836Z",
     "start_time": "2019-04-30T01:23:07.687226Z"
    }
   },
   "outputs": [
    {
     "data": {
      "text/plain": [
       "array([10], dtype=int64)"
      ]
     },
     "execution_count": 20,
     "metadata": {},
     "output_type": "execute_result"
    }
   ],
   "source": [
    "# predict class\n",
    "model.predict_classes(td)"
   ]
  },
  {
   "cell_type": "code",
   "execution_count": 44,
   "metadata": {
    "ExecuteTime": {
     "end_time": "2019-04-26T03:40:05.326855Z",
     "start_time": "2019-04-26T03:40:05.321867Z"
    }
   },
   "outputs": [
    {
     "data": {
      "text/plain": [
       "{'Call_Me': 0,\n",
       " 'Down_Index': 1,\n",
       " 'Fingers_Crossed': 2,\n",
       " 'Fist': 3,\n",
       " 'Hand': 4,\n",
       " 'Middle_Finger': 5,\n",
       " 'OK': 6,\n",
       " 'Pointing_Index': 7,\n",
       " 'Rock_It': 8,\n",
       " 'Smack': 9,\n",
       " 'Thumbs_Down': 10,\n",
       " 'Thumbs_Up': 11,\n",
       " 'Up_Pointing_Index': 12,\n",
       " 'Victory_Hand': 13,\n",
       " 'Vulcan_Salute': 14,\n",
       " 'Yo': 15}"
      ]
     },
     "execution_count": 44,
     "metadata": {},
     "output_type": "execute_result"
    }
   ],
   "source": [
    "train_image_gen.class_indices"
   ]
  },
  {
   "cell_type": "markdown",
   "metadata": {},
   "source": [
    "### Our model is able to accurately classify the image as a Thumbs Down Emoji which corresponds to number 10 in our class indices"
   ]
  },
  {
   "cell_type": "code",
   "execution_count": 22,
   "metadata": {
    "ExecuteTime": {
     "end_time": "2019-04-30T01:23:24.473823Z",
     "start_time": "2019-04-30T01:23:24.448856Z"
    }
   },
   "outputs": [
    {
     "data": {
      "text/plain": [
       "array([[0., 0., 0., 0., 0., 0., 0., 0., 0., 0., 1., 0., 0., 0., 0., 0.]],\n",
       "      dtype=float32)"
      ]
     },
     "execution_count": 22,
     "metadata": {},
     "output_type": "execute_result"
    }
   ],
   "source": [
    "# another variant to get prediction\n",
    "model.predict(td)"
   ]
  },
  {
   "cell_type": "markdown",
   "metadata": {},
   "source": [
    "## 4. Predict Hand Emojis from Hand Gestures for a Video Stream  \n",
    "Our model is not able to accurately classify images when they are raw and unprocessed. We can process our images using OpenCV to get accurate classification. Below two methods can be used for processing the video frames.\n",
    "\n",
    "1. [Canny Edge Detection](https://docs.opencv.org/3.4.2/da/d22/tutorial_py_canny.html)\n",
    "    - Below is an example of Canny Edge Detection implementation for our hand emoji which is provided as an input to our CNN model. We see a bit of improvement in the classification but not by a considerable amount. Canny Edge Detection is good at detecting edges but at the expense losing fine details in the images."
   ]
  },
  {
   "cell_type": "code",
   "execution_count": 48,
   "metadata": {
    "ExecuteTime": {
     "end_time": "2019-06-22T22:25:41.160588Z",
     "start_time": "2019-06-22T22:25:40.948814Z"
    }
   },
   "outputs": [
    {
     "data": {
      "text/plain": [
       "<matplotlib.image.AxesImage at 0x26e18c97978>"
      ]
     },
     "execution_count": 48,
     "metadata": {},
     "output_type": "execute_result"
    },
    {
     "data": {
      "image/png": "[encoded data removed]",
      "text/plain": [
       "<Figure size 432x288 with 1 Axes>"
      ]
     },
     "metadata": {
      "needs_background": "light"
     },
     "output_type": "display_data"
    }
   ],
   "source": [
    "hand = cv2.imread('hand_emoji/train/Hand/Left_Hand.png',0)\n",
    "\n",
    "#hand_blur = cv2.blur(hand, ksize=(3,3))\n",
    "\n",
    "hand_edge = cv2.Canny(hand, int(max(0,0.7 * np.median(hand))), int(min(255,1.3 * np.median(hand))))\n",
    "\n",
    "plt.imshow(hand_edge,cmap='gray')"
   ]
  },
  {
   "cell_type": "markdown",
   "metadata": {},
   "source": [
    "2. [Morphological Gradient Transformation](https://opencv-python-tutroals.readthedocs.io/en/latest/py_tutorials/py_imgproc/py_morphological_ops/py_morphological_ops.html)\n",
    "    - Morphological Gradient is the difference between dilation and erosion of an image. Our model performs quite well when the image is processed using Morphological Gradient as it preserves both high and low level details of the image."
   ]
  },
  {
   "cell_type": "code",
   "execution_count": 45,
   "metadata": {
    "ExecuteTime": {
     "end_time": "2019-06-22T22:25:13.031237Z",
     "start_time": "2019-06-22T22:25:12.833299Z"
    }
   },
   "outputs": [
    {
     "data": {
      "text/plain": [
       "<matplotlib.image.AxesImage at 0x26e18a6f748>"
      ]
     },
     "execution_count": 45,
     "metadata": {},
     "output_type": "execute_result"
    },
    {
     "data": {
      "image/png": "[encoded data removed]",
      "text/plain": [
       "<Figure size 432x288 with 1 Axes>"
      ]
     },
     "metadata": {
      "needs_background": "light"
     },
     "output_type": "display_data"
    }
   ],
   "source": [
    "hand = cv2.imread('hand_emoji/train/Hand/Left_Hand.png',0)\n",
    "\n",
    "hand_grad = cv2.morphologyEx(hand, cv2.MORPH_GRADIENT, kernel=np.ones((4,4),dtype=np.uint8))\n",
    "\n",
    "plt.imshow(hand_grad,cmap='gray')"
   ]
  },
  {
   "cell_type": "markdown",
   "metadata": {},
   "source": [
    "### [Blending Images in OpenCV using Arithmetic Operations](https://docs.opencv.org/3.4/d0/d86/tutorial_py_image_arithmetics.html)"
   ]
  },
  {
   "cell_type": "code",
   "execution_count": 1,
   "metadata": {
    "ExecuteTime": {
     "end_time": "2019-07-12T22:44:40.459740Z",
     "start_time": "2019-07-12T22:44:33.055582Z"
    }
   },
   "outputs": [
    {
     "name": "stderr",
     "output_type": "stream",
     "text": [
      "Using TensorFlow backend.\n"
     ]
    }
   ],
   "source": [
    "# import libraries\n",
    "import os\n",
    "from keras.preprocessing import image\n",
    "from keras.models import load_model\n",
    "import cv2\n",
    "import numpy as np\n",
    "import glob\n",
    "\n",
    "# load the model\n",
    "model = load_model('hand_emoji_model.h5')\n",
    "\n",
    "def model_predict(model, grad):\n",
    "    ''' \n",
    "    Get prediction for hand gestures \n",
    "    '''   \n",
    "    img = process_image(grad)\n",
    "    predicted_class = model.predict_classes(img)[0]\n",
    "    return predicted_class\n",
    "    \n",
    "def process_image(grad):\n",
    "    ''' \n",
    "    Process the image \n",
    "    '''\n",
    "    img = cv2.resize(grad,(150, 150))\n",
    "    img = image.img_to_array(img)\n",
    "    img = np.expand_dims(img, axis=0)\n",
    "    return img\n",
    "\n",
    "def get_emoji(predicted_class):\n",
    "    ''' \n",
    "    Get emoji from prediction \n",
    "    ''' \n",
    "    for i in glob.glob('hand_emoji/emoji/*'):\n",
    "        if i[17:] == str(predicted_class)+'.png':\n",
    "            emoji = cv2.imread(i)\n",
    "            return emoji\n",
    "    \n",
    "def blend(frame_flip, emoji):\n",
    "    ''' \n",
    "    Blend the predicted emoji onto the video capture frame \n",
    "    '''\n",
    "    # define Region Of Interest (ROI)\n",
    "    roi_upper_left = (180,200)\n",
    "    roi_bottom_right = (450,500)\n",
    "    roi = frame_flip[roi_upper_left[1]:roi_bottom_right[1], roi_upper_left[0]:roi_bottom_right[0]]   \n",
    "    \n",
    "    # resize the hand emoji\n",
    "    emoji = cv2.resize(emoji,(roi_bottom_right[0] - roi_upper_left[0],roi_bottom_right[1] - roi_upper_left[1]))\n",
    "    \n",
    "    # create a mask of hand emoji and also its inverse mask\n",
    "    emoji2gray = cv2.cvtColor(emoji, cv2.COLOR_BGR2GRAY)\n",
    "    ret, mask = cv2.threshold(emoji2gray, 127, 255, cv2.THRESH_BINARY)\n",
    "    mask_inv = cv2.bitwise_not(mask)\n",
    "    \n",
    "    # black-out the area of hand emoji in ROI\n",
    "    emoji_bg = cv2.bitwise_and(roi, roi, mask=mask_inv)\n",
    "    \n",
    "    # Grab only region of hand emoji from entire image\n",
    "    emoji_fg = cv2.bitwise_and(emoji, emoji, mask=mask)\n",
    "    \n",
    "    # place the hand emoji in ROI on the video frame\n",
    "    dst = cv2.add(emoji_bg, emoji_fg)\n",
    "    frame_flip[roi_upper_left[1]:roi_bottom_right[1], roi_upper_left[0]:roi_bottom_right[0]] = dst\n",
    "    \n",
    "    return frame_flip"
   ]
  },
  {
   "cell_type": "code",
   "execution_count": 6,
   "metadata": {
    "ExecuteTime": {
     "end_time": "2019-07-12T22:52:36.503782Z",
     "start_time": "2019-07-12T22:51:49.477551Z"
    }
   },
   "outputs": [],
   "source": [
    "def main():\n",
    "    \n",
    "    # start video capture \n",
    "    cap = cv2.VideoCapture(0)\n",
    "    \n",
    "    # set video height and width\n",
    "    cap.set(cv2.CAP_PROP_FRAME_WIDTH,1200)\n",
    "    cap.set(cv2.CAP_PROP_FRAME_HEIGHT,800)\n",
    "    \n",
    "    # set co-ordinates for Region of Interest (ROI)\n",
    "    upper_left = (800,200)\n",
    "    bottom_right = (1100,500)\n",
    "\n",
    "    while True:\n",
    "\n",
    "        # read the video frames\n",
    "        _, frame = cap.read(0)\n",
    "    \n",
    "        # flip the video frames   \n",
    "        frame_flip = cv2.flip(frame,1)\n",
    "        \n",
    "        # set ROI to place our hand\n",
    "        roi_img = frame_flip[upper_left[1]:bottom_right[1], upper_left[0]:bottom_right[0]]\n",
    "        \n",
    "        #blurred_roi = cv2.blur(roi_img, ksize=(3,3))\n",
    "    \n",
    "        #edges = cv2.Canny(blurred_roi, int(max(0,0.7 * np.median(roi_img))), int(min(255,1.3 * np.median(roi_img))))\n",
    "        \n",
    "        #edges_reshape = edges.reshape(150,150,3)\n",
    "    \n",
    "        # transform the raw hand image using Morphological Gradient\n",
    "        grad = cv2.morphologyEx(roi_img, cv2.MORPH_GRADIENT, kernel=np.ones((5,5),dtype=np.uint8))\n",
    "    \n",
    "        # draw a red rectangle around ROI\n",
    "        cv2.rectangle(frame_flip, upper_left, bottom_right, (0,0,255), 5)\n",
    "        \n",
    "        # predict hand emoji\n",
    "        predicted_class = model_predict(model, grad)\n",
    "        \n",
    "        # get predicted hand emoji\n",
    "        emoji = get_emoji(predicted_class)\n",
    "        \n",
    "        #print(predicted_class)\n",
    "        \n",
    "        # blend the hand emoji on the video stream\n",
    "        blended = blend(frame_flip, emoji)\n",
    "        \n",
    "        #cv2.imshow('Grad', grad)\n",
    "        \n",
    "        #cv2.imshow('Emoji', cv2.resize(emoji,(300,300)))\n",
    "    \n",
    "        # show the predicted hand emoji on the video stream\n",
    "        cv2.imshow('Video', blended)       \n",
    "    \n",
    "        # hit 'q' to stop the video stream\n",
    "        if cv2.waitKey(30) & 0xff == ord('q'):\n",
    "            break\n",
    "\n",
    "    cap.release( )\n",
    "    cv2.destroyAllWindows( )\n",
    "    \n",
    "\n",
    "if __name__ == '__main__':\n",
    "    main()"
   ]
  },
  {
   "cell_type": "markdown",
   "metadata": {
    "ExecuteTime": {
     "end_time": "2019-07-12T23:45:05.511586Z",
     "start_time": "2019-07-12T23:45:05.505584Z"
    }
   },
   "source": [
    "## Hand Emojinator without Transfer Learning\n",
    "![Hand Emojinator without Transfer Learning](hand_emoji/Not_Accurate_WO_TL_7_12_2019_6_52_04_PM.gif)"
   ]
  },
  {
   "attachments": {},
   "cell_type": "markdown",
   "metadata": {},
   "source": [
    "## 5. Transfer Learning\n",
    "__1. What is Transfer Learning?__\n",
    "    - Transfer learning, is a research problem in machine learning that focuses on storing knowledge gained while solving one problem and applying it to a different but related problem.\n",
    "\n",
    "\n",
    "__2. Why Transfer Learning?__\n",
    "    - In practice very few people train a Convolution Neural Network from scratch (random initialisation) because it is rare to get enough data. So, using pre-trained network weights as initialisations or a fixed feature extractor helps in solving most of the problems in hand.\n",
    "    - Very Deep Networks are expensive to train. The most complex models take weeks to train using hundreds of machines equipped with expensive GPUs.\n",
    "\n",
    "\n",
    "__3. How Transfer Learning helps ?__\n",
    "    - When you look at what these Deep Learning networks learn, they try to detect edges in the earlier layers, Shapes in the middle layer and some high level data specific features in the later layers. These trained networks are generally helpful in solving other computer vision problems. Lets have a look at how to do transfer learning using Keras.\n",
    "    \n",
    "![Transfer_Learning](hand_emoji/Transfer_Learning.png)"
   ]
  },
  {
   "attachments": {},
   "cell_type": "markdown",
   "metadata": {},
   "source": [
    "#### VGG19 Model for Transfer Learning\n",
    "- Documentation for various Keras pre-trained deep learning models which can be used for transfer learning is available [here](https://keras.io/applications/)\n",
    "- For our usage case we will be using **VGG19** model which is a neural network developed and trained by Oxford's renowned Visual Geometry Group (VGG). The model performed very well in the Image Net Large Scale Visual Recognition Challenge (ILSVRC) in 2014. It scored first place on the image localization task and second place on the image classification task.\n",
    "- Localization is finding where in the image a certain object is, described by a bounding box. Classification is describing what the object in the image is. This predicts a category label, such as “cat” or “bookcase”.\n",
    "![VGG19](hand_emoji/VGG19.jpeg)"
   ]
  },
  {
   "cell_type": "code",
   "execution_count": 10,
   "metadata": {
    "ExecuteTime": {
     "end_time": "2019-06-17T02:05:58.075974Z",
     "start_time": "2019-06-17T02:05:58.070989Z"
    }
   },
   "outputs": [],
   "source": [
    "# import the VGG19 model\n",
    "from keras.applications.vgg19 import VGG19"
   ]
  },
  {
   "cell_type": "markdown",
   "metadata": {},
   "source": [
    "### conv_base\n",
    "- weights='imagenet' :-  will download weights which was trained on imagenet dataset.\n",
    "- include_top=False :-  <font color=red>do not download fully connected layer of the pre-trained model.</font> After the convolution layers extract basic features such as edges, blobs or lines from the input images, the fully connected layer then classifies them into categories. Since all we need is to classify 16 classes of our hand emojis, we are going to remove the former and add our own FC layer.\n",
    "- input_shape=(150,150,3) :- specify our image input dimension"
   ]
  },
  {
   "cell_type": "code",
   "execution_count": 11,
   "metadata": {
    "ExecuteTime": {
     "end_time": "2019-06-17T02:06:01.720053Z",
     "start_time": "2019-06-17T02:05:58.757404Z"
    }
   },
   "outputs": [],
   "source": [
    "conv_base = VGG19(weights='imagenet', include_top=False, input_shape=(150,150,3))"
   ]
  },
  {
   "cell_type": "code",
   "execution_count": 12,
   "metadata": {
    "ExecuteTime": {
     "end_time": "2019-06-17T02:06:04.074547Z",
     "start_time": "2019-06-17T02:06:04.066568Z"
    }
   },
   "outputs": [
    {
     "name": "stdout",
     "output_type": "stream",
     "text": [
      "_________________________________________________________________\n",
      "Layer (type)                 Output Shape              Param #   \n",
      "=================================================================\n",
      "input_3 (InputLayer)         (None, 150, 150, 3)       0         \n",
      "_________________________________________________________________\n",
      "block1_conv1 (Conv2D)        (None, 150, 150, 64)      1792      \n",
      "_________________________________________________________________\n",
      "block1_conv2 (Conv2D)        (None, 150, 150, 64)      36928     \n",
      "_________________________________________________________________\n",
      "block1_pool (MaxPooling2D)   (None, 75, 75, 64)        0         \n",
      "_________________________________________________________________\n",
      "block2_conv1 (Conv2D)        (None, 75, 75, 128)       73856     \n",
      "_________________________________________________________________\n",
      "block2_conv2 (Conv2D)        (None, 75, 75, 128)       147584    \n",
      "_________________________________________________________________\n",
      "block2_pool (MaxPooling2D)   (None, 37, 37, 128)       0         \n",
      "_________________________________________________________________\n",
      "block3_conv1 (Conv2D)        (None, 37, 37, 256)       295168    \n",
      "_________________________________________________________________\n",
      "block3_conv2 (Conv2D)        (None, 37, 37, 256)       590080    \n",
      "_________________________________________________________________\n",
      "block3_conv3 (Conv2D)        (None, 37, 37, 256)       590080    \n",
      "_________________________________________________________________\n",
      "block3_conv4 (Conv2D)        (None, 37, 37, 256)       590080    \n",
      "_________________________________________________________________\n",
      "block3_pool (MaxPooling2D)   (None, 18, 18, 256)       0         \n",
      "_________________________________________________________________\n",
      "block4_conv1 (Conv2D)        (None, 18, 18, 512)       1180160   \n",
      "_________________________________________________________________\n",
      "block4_conv2 (Conv2D)        (None, 18, 18, 512)       2359808   \n",
      "_________________________________________________________________\n",
      "block4_conv3 (Conv2D)        (None, 18, 18, 512)       2359808   \n",
      "_________________________________________________________________\n",
      "block4_conv4 (Conv2D)        (None, 18, 18, 512)       2359808   \n",
      "_________________________________________________________________\n",
      "block4_pool (MaxPooling2D)   (None, 9, 9, 512)         0         \n",
      "_________________________________________________________________\n",
      "block5_conv1 (Conv2D)        (None, 9, 9, 512)         2359808   \n",
      "_________________________________________________________________\n",
      "block5_conv2 (Conv2D)        (None, 9, 9, 512)         2359808   \n",
      "_________________________________________________________________\n",
      "block5_conv3 (Conv2D)        (None, 9, 9, 512)         2359808   \n",
      "_________________________________________________________________\n",
      "block5_conv4 (Conv2D)        (None, 9, 9, 512)         2359808   \n",
      "_________________________________________________________________\n",
      "block5_pool (MaxPooling2D)   (None, 4, 4, 512)         0         \n",
      "=================================================================\n",
      "Total params: 20,024,384\n",
      "Trainable params: 20,024,384\n",
      "Non-trainable params: 0\n",
      "_________________________________________________________________\n"
     ]
    }
   ],
   "source": [
    "# checkout conv_base summary\n",
    "conv_base.summary()"
   ]
  },
  {
   "cell_type": "code",
   "execution_count": 13,
   "metadata": {
    "ExecuteTime": {
     "end_time": "2019-06-17T02:06:08.285213Z",
     "start_time": "2019-06-17T02:06:08.281224Z"
    }
   },
   "outputs": [],
   "source": [
    "# import keras models and layers libraries\n",
    "from keras.models import Sequential\n",
    "from keras.layers import Dense, Flatten, Dropout"
   ]
  },
  {
   "cell_type": "code",
   "execution_count": 14,
   "metadata": {
    "ExecuteTime": {
     "end_time": "2019-06-17T02:06:09.079573Z",
     "start_time": "2019-06-17T02:06:08.975613Z"
    }
   },
   "outputs": [],
   "source": [
    "# create sequential model\n",
    "model = Sequential()\n",
    "\n",
    "# add our conv_base layer\n",
    "model.add(conv_base)\n",
    "\n",
    "# flatten the output from the conv_base as we pass it to our fully connected layer (classifier).\n",
    "model.add(Flatten())\n",
    "\n",
    "# add dropout which will avoid overfitting by turning off 40% of the neurons\n",
    "model.add(Dropout(0.4))\n",
    "\n",
    "# add a dense layer with 256 units and Rectified Linear Unit as the activation function\n",
    "model.add(Dense(256, activation='relu'))\n",
    "\n",
    "# add a dense layer with 16 units i.e equal to # of target labels and softmax as the activation function for classification\n",
    "model.add(Dense(16, activation='softmax'))"
   ]
  },
  {
   "cell_type": "code",
   "execution_count": 15,
   "metadata": {
    "ExecuteTime": {
     "end_time": "2019-06-17T02:06:11.530267Z",
     "start_time": "2019-06-17T02:06:11.527316Z"
    }
   },
   "outputs": [],
   "source": [
    "# set conv_base layer's training to False as it is already trained\n",
    "conv_base.trainable = False"
   ]
  },
  {
   "cell_type": "code",
   "execution_count": 16,
   "metadata": {
    "ExecuteTime": {
     "end_time": "2019-06-17T02:06:12.306366Z",
     "start_time": "2019-06-17T02:06:12.261268Z"
    }
   },
   "outputs": [],
   "source": [
    "# compile the model using categorical crossentropy & adam optimizer\n",
    "model.compile(loss='categorical_crossentropy',\n",
    "             optimizer='adam',\n",
    "             metrics=['accuracy'])"
   ]
  },
  {
   "cell_type": "markdown",
   "metadata": {},
   "source": [
    "### Remaining procedure is same as before"
   ]
  },
  {
   "cell_type": "code",
   "execution_count": 17,
   "metadata": {
    "ExecuteTime": {
     "end_time": "2019-06-17T02:06:13.003865Z",
     "start_time": "2019-06-17T02:06:12.999903Z"
    }
   },
   "outputs": [],
   "source": [
    "from keras.preprocessing.image import ImageDataGenerator"
   ]
  },
  {
   "cell_type": "code",
   "execution_count": 18,
   "metadata": {
    "ExecuteTime": {
     "end_time": "2019-06-17T02:06:13.895174Z",
     "start_time": "2019-06-17T02:06:13.891184Z"
    }
   },
   "outputs": [],
   "source": [
    "image_gen = ImageDataGenerator(rotation_range=30, \n",
    "                               width_shift_range=0.1, \n",
    "                               height_shift_range=0.1,\n",
    "                               shear_range=0.2,\n",
    "                               zoom_range=0.2, \n",
    "                               fill_mode='nearest', \n",
    "                               horizontal_flip=True, \n",
    "                               rescale=1/255)"
   ]
  },
  {
   "cell_type": "code",
   "execution_count": 19,
   "metadata": {
    "ExecuteTime": {
     "end_time": "2019-06-17T02:06:16.302455Z",
     "start_time": "2019-06-17T02:06:16.298465Z"
    }
   },
   "outputs": [],
   "source": [
    "input_shape = (150,150,3)"
   ]
  },
  {
   "cell_type": "code",
   "execution_count": 20,
   "metadata": {
    "ExecuteTime": {
     "end_time": "2019-06-17T02:06:17.110920Z",
     "start_time": "2019-06-17T02:06:16.994531Z"
    }
   },
   "outputs": [
    {
     "name": "stdout",
     "output_type": "stream",
     "text": [
      "Found 198 images belonging to 16 classes.\n"
     ]
    }
   ],
   "source": [
    "train_image_gen = image_gen.flow_from_directory('hand_emoji/train',\n",
    "                                               target_size=input_shape[:2],\n",
    "                                               batch_size=16,\n",
    "                                               class_mode='categorical')"
   ]
  },
  {
   "cell_type": "code",
   "execution_count": 21,
   "metadata": {
    "ExecuteTime": {
     "end_time": "2019-06-17T02:06:18.060255Z",
     "start_time": "2019-06-17T02:06:17.948789Z"
    }
   },
   "outputs": [
    {
     "name": "stdout",
     "output_type": "stream",
     "text": [
      "Found 95 images belonging to 16 classes.\n"
     ]
    }
   ],
   "source": [
    "test_image_gen = image_gen.flow_from_directory('hand_emoji/test',\n",
    "                                               target_size=input_shape[:2],\n",
    "                                               batch_size=16,\n",
    "                                               class_mode='categorical')"
   ]
  },
  {
   "cell_type": "code",
   "execution_count": 22,
   "metadata": {
    "ExecuteTime": {
     "end_time": "2019-06-17T02:06:19.415683Z",
     "start_time": "2019-06-17T02:06:19.405673Z"
    }
   },
   "outputs": [
    {
     "data": {
      "text/plain": [
       "{'Call_Me': 0,\n",
       " 'Down_Index': 1,\n",
       " 'Fingers_Crossed': 2,\n",
       " 'Fist': 3,\n",
       " 'Hand': 4,\n",
       " 'Middle_Finger': 5,\n",
       " 'OK': 6,\n",
       " 'Pointing_Index': 7,\n",
       " 'Rock_It': 8,\n",
       " 'Smack': 9,\n",
       " 'Thumbs_Down': 10,\n",
       " 'Thumbs_Up': 11,\n",
       " 'Up_Pointing_Index': 12,\n",
       " 'Victory_Hand': 13,\n",
       " 'Vulcan_Salute': 14,\n",
       " 'Yo': 15}"
      ]
     },
     "execution_count": 22,
     "metadata": {},
     "output_type": "execute_result"
    }
   ],
   "source": [
    "train_image_gen.class_indices"
   ]
  },
  {
   "cell_type": "code",
   "execution_count": 23,
   "metadata": {
    "ExecuteTime": {
     "end_time": "2019-06-17T02:38:55.800359Z",
     "start_time": "2019-06-17T02:06:22.832821Z"
    }
   },
   "outputs": [
    {
     "name": "stdout",
     "output_type": "stream",
     "text": [
      "Epoch 1/50\n"
     ]
    },
    {
     "name": "stderr",
     "output_type": "stream",
     "text": [
      "C:\\ProgramData\\Anaconda3\\lib\\site-packages\\PIL\\Image.py:953: UserWarning: Palette images with Transparency   expressed in bytes should be converted to RGBA images\n",
      "  'to RGBA images')\n"
     ]
    },
    {
     "name": "stdout",
     "output_type": "stream",
     "text": [
      "12/12 [==============================] - 41s 3s/step - loss: 3.2355 - acc: 0.1615 - val_loss: 2.1145 - val_acc: 0.3625\n",
      "Epoch 2/50\n",
      "12/12 [==============================] - 38s 3s/step - loss: 2.0861 - acc: 0.3428 - val_loss: 1.6038 - val_acc: 0.4810\n",
      "Epoch 3/50\n",
      "12/12 [==============================] - 38s 3s/step - loss: 1.2872 - acc: 0.6416 - val_loss: 1.2677 - val_acc: 0.6076\n",
      "Epoch 4/50\n",
      "12/12 [==============================] - 39s 3s/step - loss: 1.0293 - acc: 0.6886 - val_loss: 0.9511 - val_acc: 0.7595\n",
      "Epoch 5/50\n",
      "12/12 [==============================] - 38s 3s/step - loss: 0.8115 - acc: 0.7695 - val_loss: 0.9442 - val_acc: 0.6962\n",
      "Epoch 6/50\n",
      "12/12 [==============================] - 38s 3s/step - loss: 0.6321 - acc: 0.8298 - val_loss: 1.0903 - val_acc: 0.6329\n",
      "Epoch 7/50\n",
      "12/12 [==============================] - 39s 3s/step - loss: 0.5322 - acc: 0.8298 - val_loss: 0.9933 - val_acc: 0.7000\n",
      "Epoch 8/50\n",
      "12/12 [==============================] - 38s 3s/step - loss: 0.4980 - acc: 0.8455 - val_loss: 0.8227 - val_acc: 0.7468\n",
      "Epoch 9/50\n",
      "12/12 [==============================] - 39s 3s/step - loss: 0.4120 - acc: 0.8874 - val_loss: 0.7117 - val_acc: 0.7848\n",
      "Epoch 10/50\n",
      "12/12 [==============================] - 38s 3s/step - loss: 0.3916 - acc: 0.8717 - val_loss: 1.0414 - val_acc: 0.7215\n",
      "Epoch 11/50\n",
      "12/12 [==============================] - 39s 3s/step - loss: 0.4105 - acc: 0.8849 - val_loss: 0.9795 - val_acc: 0.7215\n",
      "Epoch 12/50\n",
      "12/12 [==============================] - 39s 3s/step - loss: 0.3013 - acc: 0.9135 - val_loss: 0.8845 - val_acc: 0.7089\n",
      "Epoch 13/50\n",
      "12/12 [==============================] - 39s 3s/step - loss: 0.3375 - acc: 0.8954 - val_loss: 0.8316 - val_acc: 0.7250\n",
      "Epoch 14/50\n",
      "12/12 [==============================] - 41s 3s/step - loss: 0.4112 - acc: 0.8802 - val_loss: 0.6789 - val_acc: 0.7975\n",
      "Epoch 15/50\n",
      "12/12 [==============================] - 39s 3s/step - loss: 0.3496 - acc: 0.9006 - val_loss: 0.8462 - val_acc: 0.7215\n",
      "Epoch 16/50\n",
      "12/12 [==============================] - 39s 3s/step - loss: 0.3145 - acc: 0.9031 - val_loss: 0.6611 - val_acc: 0.7848\n",
      "Epoch 17/50\n",
      "12/12 [==============================] - 40s 3s/step - loss: 0.2867 - acc: 0.8954 - val_loss: 0.9841 - val_acc: 0.7342\n",
      "Epoch 18/50\n",
      "12/12 [==============================] - 39s 3s/step - loss: 0.2119 - acc: 0.9425 - val_loss: 0.7381 - val_acc: 0.8101\n",
      "Epoch 19/50\n",
      "12/12 [==============================] - 39s 3s/step - loss: 0.2199 - acc: 0.9397 - val_loss: 0.7675 - val_acc: 0.8000\n",
      "Epoch 20/50\n",
      "12/12 [==============================] - 39s 3s/step - loss: 0.2561 - acc: 0.9372 - val_loss: 0.5525 - val_acc: 0.8481\n",
      "Epoch 21/50\n",
      "12/12 [==============================] - 40s 3s/step - loss: 0.1783 - acc: 0.9634 - val_loss: 1.0532 - val_acc: 0.7595\n",
      "Epoch 22/50\n",
      "12/12 [==============================] - 41s 3s/step - loss: 0.2313 - acc: 0.9215 - val_loss: 0.8103 - val_acc: 0.7975\n",
      "Epoch 23/50\n",
      "12/12 [==============================] - 39s 3s/step - loss: 0.1667 - acc: 0.9582 - val_loss: 0.8097 - val_acc: 0.7595\n",
      "Epoch 24/50\n",
      "12/12 [==============================] - 39s 3s/step - loss: 0.2978 - acc: 0.9031 - val_loss: 1.1577 - val_acc: 0.7089\n",
      "Epoch 25/50\n",
      "12/12 [==============================] - 39s 3s/step - loss: 0.2684 - acc: 0.9215 - val_loss: 0.8219 - val_acc: 0.7500\n",
      "Epoch 26/50\n",
      "12/12 [==============================] - 39s 3s/step - loss: 0.2710 - acc: 0.9135 - val_loss: 0.9690 - val_acc: 0.7342\n",
      "Epoch 27/50\n",
      "12/12 [==============================] - 40s 3s/step - loss: 0.2068 - acc: 0.9323 - val_loss: 0.9325 - val_acc: 0.8228\n",
      "Epoch 28/50\n",
      "12/12 [==============================] - 39s 3s/step - loss: 0.3000 - acc: 0.9135 - val_loss: 0.8260 - val_acc: 0.7468\n",
      "Epoch 29/50\n",
      "12/12 [==============================] - 39s 3s/step - loss: 0.2194 - acc: 0.9188 - val_loss: 0.6035 - val_acc: 0.8354\n",
      "Epoch 30/50\n",
      "12/12 [==============================] - 39s 3s/step - loss: 0.1555 - acc: 0.9582 - val_loss: 0.6214 - val_acc: 0.8354\n",
      "Epoch 31/50\n",
      "12/12 [==============================] - 39s 3s/step - loss: 0.2450 - acc: 0.9059 - val_loss: 0.6217 - val_acc: 0.8125\n",
      "Epoch 32/50\n",
      "12/12 [==============================] - 39s 3s/step - loss: 0.1458 - acc: 0.9686 - val_loss: 0.7305 - val_acc: 0.8354\n",
      "Epoch 33/50\n",
      "12/12 [==============================] - 39s 3s/step - loss: 0.1987 - acc: 0.9320 - val_loss: 0.8285 - val_acc: 0.7215\n",
      "Epoch 34/50\n",
      "12/12 [==============================] - 39s 3s/step - loss: 0.2397 - acc: 0.9477 - val_loss: 0.8193 - val_acc: 0.8101\n",
      "Epoch 35/50\n",
      "12/12 [==============================] - 39s 3s/step - loss: 0.2193 - acc: 0.9320 - val_loss: 0.8871 - val_acc: 0.8101\n",
      "Epoch 36/50\n",
      "12/12 [==============================] - 39s 3s/step - loss: 0.1642 - acc: 0.9477 - val_loss: 0.7298 - val_acc: 0.8354\n",
      "Epoch 37/50\n",
      "12/12 [==============================] - 39s 3s/step - loss: 0.1019 - acc: 0.9686 - val_loss: 0.7471 - val_acc: 0.8375\n",
      "Epoch 38/50\n",
      "12/12 [==============================] - 39s 3s/step - loss: 0.2108 - acc: 0.9240 - val_loss: 0.4273 - val_acc: 0.8481\n",
      "Epoch 39/50\n",
      "12/12 [==============================] - 39s 3s/step - loss: 0.2251 - acc: 0.9320 - val_loss: 1.1651 - val_acc: 0.7089\n",
      "Epoch 40/50\n",
      "12/12 [==============================] - 40s 3s/step - loss: 0.2137 - acc: 0.9271 - val_loss: 0.7541 - val_acc: 0.7722\n",
      "Epoch 41/50\n",
      "12/12 [==============================] - 39s 3s/step - loss: 0.1786 - acc: 0.9425 - val_loss: 0.7538 - val_acc: 0.8228\n",
      "Epoch 42/50\n",
      "12/12 [==============================] - 39s 3s/step - loss: 0.1973 - acc: 0.9320 - val_loss: 0.8248 - val_acc: 0.7975\n",
      "Epoch 43/50\n",
      "12/12 [==============================] - 39s 3s/step - loss: 0.1699 - acc: 0.9477 - val_loss: 0.7561 - val_acc: 0.8125\n",
      "Epoch 44/50\n",
      "12/12 [==============================] - 39s 3s/step - loss: 0.2064 - acc: 0.9320 - val_loss: 0.8300 - val_acc: 0.8228\n",
      "Epoch 45/50\n",
      "12/12 [==============================] - 39s 3s/step - loss: 0.1222 - acc: 0.9582 - val_loss: 0.7592 - val_acc: 0.8228\n",
      "Epoch 46/50\n",
      "12/12 [==============================] - 40s 3s/step - loss: 0.1436 - acc: 0.9634 - val_loss: 0.9073 - val_acc: 0.7848\n",
      "Epoch 47/50\n",
      "12/12 [==============================] - 39s 3s/step - loss: 0.2368 - acc: 0.9268 - val_loss: 0.7988 - val_acc: 0.8228\n",
      "Epoch 48/50\n",
      "12/12 [==============================] - 39s 3s/step - loss: 0.1784 - acc: 0.9372 - val_loss: 0.8468 - val_acc: 0.7722\n",
      "Epoch 49/50\n",
      "12/12 [==============================] - 39s 3s/step - loss: 0.2050 - acc: 0.9345 - val_loss: 0.6878 - val_acc: 0.7875\n",
      "Epoch 50/50\n",
      "12/12 [==============================] - 40s 3s/step - loss: 0.1799 - acc: 0.9268 - val_loss: 0.7206 - val_acc: 0.8354\n"
     ]
    }
   ],
   "source": [
    "history = model.fit_generator(train_image_gen,\n",
    "                              epochs=50,\n",
    "                              steps_per_epoch=198//16,\n",
    "                              validation_data=test_image_gen,\n",
    "                              validation_steps=95//16)"
   ]
  },
  {
   "cell_type": "markdown",
   "metadata": {},
   "source": [
    "### We have an accuracy of 83.5% on test data which is a slight improvement because of transfer learning."
   ]
  },
  {
   "cell_type": "code",
   "execution_count": 24,
   "metadata": {
    "ExecuteTime": {
     "end_time": "2019-06-17T02:44:09.369068Z",
     "start_time": "2019-06-17T02:44:07.750341Z"
    }
   },
   "outputs": [],
   "source": [
    "model.save('tl_hand_emoji_model.h5')"
   ]
  },
  {
   "cell_type": "code",
   "execution_count": 25,
   "metadata": {
    "ExecuteTime": {
     "end_time": "2019-06-17T02:44:23.808362Z",
     "start_time": "2019-06-17T02:44:23.687003Z"
    }
   },
   "outputs": [],
   "source": [
    "model.save_weights('tl_hand_emoji_model_weights.h5')"
   ]
  },
  {
   "cell_type": "code",
   "execution_count": 26,
   "metadata": {
    "ExecuteTime": {
     "end_time": "2019-06-17T02:46:56.328149Z",
     "start_time": "2019-06-17T02:46:56.324162Z"
    }
   },
   "outputs": [],
   "source": [
    "from keras.preprocessing import image"
   ]
  },
  {
   "cell_type": "code",
   "execution_count": 31,
   "metadata": {
    "ExecuteTime": {
     "end_time": "2019-06-17T02:49:34.659521Z",
     "start_time": "2019-06-17T02:49:34.652540Z"
    }
   },
   "outputs": [],
   "source": [
    "td = image.load_img('hand_emoji/test/Thumbs_Down/reversed_thumbs_down_sign(p).png', target_size=(150,150))"
   ]
  },
  {
   "cell_type": "code",
   "execution_count": 32,
   "metadata": {
    "ExecuteTime": {
     "end_time": "2019-06-17T02:49:35.428825Z",
     "start_time": "2019-06-17T02:49:35.423839Z"
    }
   },
   "outputs": [],
   "source": [
    "td = image.img_to_array(td)"
   ]
  },
  {
   "cell_type": "code",
   "execution_count": 33,
   "metadata": {
    "ExecuteTime": {
     "end_time": "2019-06-17T02:49:35.974948Z",
     "start_time": "2019-06-17T02:49:35.970971Z"
    }
   },
   "outputs": [],
   "source": [
    "td = np.expand_dims(td,axis=0)"
   ]
  },
  {
   "cell_type": "code",
   "execution_count": 34,
   "metadata": {
    "ExecuteTime": {
     "end_time": "2019-06-17T02:49:36.793893Z",
     "start_time": "2019-06-17T02:49:36.631328Z"
    }
   },
   "outputs": [
    {
     "data": {
      "text/plain": [
       "array([10], dtype=int64)"
      ]
     },
     "execution_count": 34,
     "metadata": {},
     "output_type": "execute_result"
    }
   ],
   "source": [
    "model.predict_classes(td)"
   ]
  },
  {
   "cell_type": "code",
   "execution_count": 1,
   "metadata": {
    "ExecuteTime": {
     "end_time": "2019-07-13T23:15:41.131765Z",
     "start_time": "2019-07-13T23:15:35.911000Z"
    }
   },
   "outputs": [
    {
     "name": "stderr",
     "output_type": "stream",
     "text": [
      "Using TensorFlow backend.\n",
      "C:\\ProgramData\\Anaconda3\\lib\\site-packages\\keras\\engine\\saving.py:327: UserWarning: Error in loading the saved optimizer state. As a result, your model is starting with a freshly initialized optimizer.\n",
      "  warnings.warn('Error in loading the saved optimizer '\n"
     ]
    }
   ],
   "source": [
    "import os\n",
    "from keras.preprocessing import image\n",
    "from keras.models import load_model\n",
    "import cv2\n",
    "import numpy as np\n",
    "import glob\n",
    "\n",
    "model = load_model('tl_hand_emoji_model.h5')\n",
    "\n",
    "def model_predict(model, grad):\n",
    "    img = process_image(grad)\n",
    "    predicted_class = model.predict_classes(img)[0]\n",
    "    return predicted_class\n",
    "    \n",
    "def process_image(grad):\n",
    "    img = cv2.resize(grad,(150, 150))\n",
    "    img = image.img_to_array(img)\n",
    "    img = np.expand_dims(img, axis=0)\n",
    "    return img\n",
    "\n",
    "def get_emoji(predicted_class):\n",
    "    for i in glob.glob('hand_emoji/emoji/*'):\n",
    "        if i[17:] == str(predicted_class)+'.png':\n",
    "            emoji = cv2.imread(i)\n",
    "            return emoji\n",
    "    \n",
    "def blend(frame_flip, emoji):\n",
    "    roi_upper_left = (180,200)\n",
    "    roi_bottom_right = (450,500)\n",
    "    \n",
    "    roi = frame_flip[roi_upper_left[1]:roi_bottom_right[1], roi_upper_left[0]:roi_bottom_right[0]]   \n",
    "    \n",
    "    emoji = cv2.resize(emoji,(roi_bottom_right[0] - roi_upper_left[0],roi_bottom_right[1] - roi_upper_left[1]))\n",
    "    \n",
    "    emoji2gray = cv2.cvtColor(emoji, cv2.COLOR_BGR2GRAY)\n",
    "    ret, mask = cv2.threshold(emoji2gray, 127, 255, cv2.THRESH_BINARY)\n",
    "    mask_inv = cv2.bitwise_not(mask)\n",
    "    \n",
    "    emoji_bg = cv2.bitwise_and(roi, roi, mask=mask_inv)\n",
    "    emoji_fg = cv2.bitwise_and(emoji, emoji, mask=mask)\n",
    "    \n",
    "    dst = cv2.add(emoji_bg, emoji_fg)\n",
    "    frame_flip[roi_upper_left[1]:roi_bottom_right[1], roi_upper_left[0]:roi_bottom_right[0]] = dst\n",
    "    \n",
    "    return frame_flip"
   ]
  },
  {
   "cell_type": "code",
   "execution_count": 2,
   "metadata": {
    "ExecuteTime": {
     "end_time": "2019-07-13T23:16:35.952150Z",
     "start_time": "2019-07-13T23:15:48.520523Z"
    }
   },
   "outputs": [],
   "source": [
    "def main():\n",
    "\n",
    "    cap = cv2.VideoCapture(0)\n",
    "\n",
    "    cap.set(cv2.CAP_PROP_FRAME_WIDTH,1200)\n",
    "    cap.set(cv2.CAP_PROP_FRAME_HEIGHT,800)\n",
    "    \n",
    "    upper_left = (800,200)\n",
    "    bottom_right = (1100,500)\n",
    "\n",
    "    while True:\n",
    "\n",
    "        _, frame = cap.read(0)\n",
    "    \n",
    "        frame_flip = cv2.flip(frame,1)\n",
    "    \n",
    "        roi_img = frame_flip[upper_left[1]:bottom_right[1], upper_left[0]:bottom_right[0]]\n",
    "        \n",
    "        #blurred_roi = cv2.blur(roi_img, ksize=(3,3))\n",
    "    \n",
    "        #edges = cv2.Canny(blurred_roi, int(max(0,0.7 * np.median(roi_img))), int(min(255,1.3 * np.median(roi_img))))\n",
    "        \n",
    "        #edges_rgb = cv2.cvtColor(edges, cv2.COLOR_GRAY2RGB)\n",
    "    \n",
    "        grad = cv2.morphologyEx(roi_img, cv2.MORPH_GRADIENT, kernel=np.ones((5,5),dtype=np.uint8))\n",
    "    \n",
    "        cv2.rectangle(frame_flip, upper_left, bottom_right, (0,0,255), 5)\n",
    "        \n",
    "        predicted_class = model_predict(model, grad)\n",
    "        \n",
    "        emoji = get_emoji(predicted_class)\n",
    "        \n",
    "        #print(predicted_class)\n",
    "        \n",
    "        blended = blend(frame_flip, emoji)\n",
    "        \n",
    "        #cv2.imshow('Grad', grad)\n",
    "        \n",
    "        #cv2.imshow('Emoji', cv2.resize(emoji,(300,300)))\n",
    "    \n",
    "        cv2.imshow('Video', blended)       \n",
    "    \n",
    "        if cv2.waitKey(30) & 0xff == ord('q'):\n",
    "            break\n",
    "\n",
    "    cap.release( )\n",
    "    cv2.destroyAllWindows( )\n",
    "    \n",
    "\n",
    "if __name__ == '__main__':\n",
    "    main()"
   ]
  },
  {
   "cell_type": "markdown",
   "metadata": {},
   "source": [
    "## Hand Emojinator with Transfer Learning\n",
    "![Hand Emojinator with Transfer Learning](hand_emoji/Accurate_W_TL_7_12_2019_7_10_48_PM.gif)"
   ]
  },
  {
   "cell_type": "markdown",
   "metadata": {},
   "source": [
    "### References\n",
    "- https://github.com/akshaybahadur21/Emojinator\n",
    "- https://towardsdatascience.com/transfer-learning-and-image-classification-using-keras-on-kaggle-kernels-c76d3b030649"
   ]
  }
 ],
 "metadata": {
  "kernelspec": {
   "display_name": "Python 3",
   "language": "python",
   "name": "python3"
  },
  "language_info": {
   "codemirror_mode": {
    "name": "ipython",
    "version": 3
   },
   "file_extension": ".py",
   "mimetype": "text/x-python",
   "name": "python",
   "nbconvert_exporter": "python",
   "pygments_lexer": "ipython3",
   "version": "3.6.7"
  },
  "varInspector": {
   "cols": {
    "lenName": 16,
    "lenType": 16,
    "lenVar": 40
   },
   "kernels_config": {
    "python": {
     "delete_cmd_postfix": "",
     "delete_cmd_prefix": "del ",
     "library": "var_list.py",
     "varRefreshCmd": "print(var_dic_list())"
    },
    "r": {
     "delete_cmd_postfix": ") ",
     "delete_cmd_prefix": "rm(",
     "library": "var_list.r",
     "varRefreshCmd": "cat(var_dic_list()) "
    }
   },
   "position": {
    "height": "435.4px",
    "left": "592.08px",
    "right": "20px",
    "top": "120px",
    "width": "616.72px"
   },
   "types_to_exclude": [
    "module",
    "function",
    "builtin_function_or_method",
    "instance",
    "_Feature"
   ],
   "window_display": false
  }
 },
 "nbformat": 4,
 "nbformat_minor": 2
}
